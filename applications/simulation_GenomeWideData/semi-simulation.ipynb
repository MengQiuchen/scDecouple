{
 "cells": [
  {
   "cell_type": "code",
   "execution_count": 1,
   "metadata": {},
   "outputs": [],
   "source": [
    "# load('data_preprocessing-Joint.image')"
   ]
  },
  {
   "cell_type": "markdown",
   "metadata": {},
   "source": [
    "# load scDecouple core functions and necessary packages\n"
   ]
  },
  {
   "cell_type": "code",
   "execution_count": 2,
   "metadata": {},
   "outputs": [
    {
     "name": "stderr",
     "output_type": "stream",
     "text": [
      "Warning message:\n",
      "“package ‘pheatmap’ was built under R version 4.1.3”\n",
      "\n",
      "Attaching package: ‘anndata’\n",
      "\n",
      "\n",
      "The following object is masked from ‘package:readr’:\n",
      "\n",
      "    read_csv\n",
      "\n",
      "\n",
      "Warning message:\n",
      "“package ‘Seurat’ was built under R version 4.1.2”\n",
      "Attaching SeuratObject\n",
      "\n"
     ]
    }
   ],
   "source": [
    "source('function.r')\n",
    "library(tidyverse)\n",
    "library(anndata)\n",
    "library(Seurat)\n",
    "library(\"diptest\")\n",
    "library(\"mixtools\")\n",
    "library(ggplot2)\n",
    "library(parallel)"
   ]
  },
  {
   "cell_type": "code",
   "execution_count": 3,
   "metadata": {},
   "outputs": [
    {
     "data": {
      "image/png": "[encoded data removed]",
      "text/plain": [
       "plot without title"
      ]
     },
     "metadata": {
      "image/png": {
       "height": 420,
       "width": 420
      }
     },
     "output_type": "display_data"
    }
   ],
   "source": [
    "colors_ <- ggsci::pal_npg()(10)\n",
    "scales::show_col(ggsci::pal_npg()(10))"
   ]
  },
  {
   "cell_type": "code",
   "execution_count": 4,
   "metadata": {},
   "outputs": [],
   "source": [
    "scatter_style <- function(ggplot_,legend_position='none',xlab_='PC1',ylab_='PC2',title='',\n",
    "                          x.angle=0,ratio=1){\n",
    "    sp <- ggplot_+theme_classic()+  \n",
    "        #border()+\n",
    "#         xlab(xlab_)+\n",
    "#         ylab(ylab_)+\n",
    "        ggtitle(title)+\n",
    "        theme(legend.position=legend_position,\n",
    "              title=element_text(size = 8, face = \"bold\"),\n",
    "              aspect.ratio = ratio, \n",
    "                axis.text.x = element_text(angle=x.angle,size = 8),\n",
    "                axis.title.x = element_text(size = 8, face = \"bold\"),\n",
    "                axis.text.y = element_text(size = 8),\n",
    "                axis.title.y = element_text(size = 8, face = \"bold\"))\n",
    "    return(sp)\n",
    "}"
   ]
  },
  {
   "cell_type": "code",
   "execution_count": 5,
   "metadata": {},
   "outputs": [],
   "source": [
    "data.norm <- readRDS('rds/data_norm.k562vsRPE1.top2k.rds')\n",
    "features.select <- readRDS('rds/variable_genes.k562vsRPE1.top2k.rds')\n",
    "meta.data <- readRDS('rds/metadata.k562vsRPE1.top2k.rds')"
   ]
  },
  {
   "cell_type": "code",
   "execution_count": 6,
   "metadata": {},
   "outputs": [
    {
     "data": {
      "text/html": [
       "<style>\n",
       ".list-inline {list-style: none; margin:0; padding: 0}\n",
       ".list-inline>li {display: inline-block}\n",
       ".list-inline>li:not(:last-child)::after {content: \"\\00b7\"; padding: 0 .5ex}\n",
       "</style>\n",
       "<ol class=list-inline><li>7226</li><li>22174</li></ol>\n"
      ],
      "text/latex": [
       "\\begin{enumerate*}\n",
       "\\item 7226\n",
       "\\item 22174\n",
       "\\end{enumerate*}\n"
      ],
      "text/markdown": [
       "1. 7226\n",
       "2. 22174\n",
       "\n",
       "\n"
      ],
      "text/plain": [
       "[1]  7226 22174"
      ]
     },
     "metadata": {},
     "output_type": "display_data"
    }
   ],
   "source": [
    "data.norm%>%dim"
   ]
  },
  {
   "cell_type": "code",
   "execution_count": null,
   "metadata": {},
   "outputs": [],
   "source": []
  },
  {
   "cell_type": "markdown",
   "metadata": {},
   "source": [
    "# PCA tranformation and PC selection"
   ]
  },
  {
   "cell_type": "code",
   "execution_count": 7,
   "metadata": {},
   "outputs": [],
   "source": [
    "Z <- data.norm[features.select,]%>%t"
   ]
  },
  {
   "cell_type": "code",
   "execution_count": 8,
   "metadata": {},
   "outputs": [],
   "source": [
    "Z.center <- apply(Z,2,function(x){x-mean(x)})\n",
    "\n",
    "Z.shift <- colMeans(Z)\n",
    "\n",
    "Z_pca_results <- prcomp(Z.center, retx = TRUE, center = TRUE, scale. = FALSE, tol = NULL, rank. = NULL)"
   ]
  },
  {
   "cell_type": "code",
   "execution_count": null,
   "metadata": {},
   "outputs": [],
   "source": []
  },
  {
   "cell_type": "code",
   "execution_count": 10,
   "metadata": {},
   "outputs": [],
   "source": [
    "pc.th <- 10"
   ]
  },
  {
   "cell_type": "code",
   "execution_count": 11,
   "metadata": {},
   "outputs": [],
   "source": [
    "a=Z_pca_results$sdev[1:pc.th]/sum(Z_pca_results$sdev)\n",
    "b=(Z_pca_results$x)[,1:pc.th]%>%apply(2,function(x){x%>%dip.test%>%.[['statistic']]})\n",
    "\n",
    "data.df <- cbind(a,b,0)%>%as.data.frame%>%rename_with(~c('Var','Dip','Label'))\n",
    "\n",
    "\n",
    "data.df$Dip <- data.df$Dip / 10\n",
    "\n",
    "data.df <- data.df%>%rownames_to_column('id')%>%pivot_longer(cols = Var:Dip)%>%mutate(id=gsub('PC','',id))\n",
    "\n",
    "data.df$id <- factor(data.df$id, levels=c(1:pc.th))\n",
    "\n",
    "data.df$value <- data.df$value * 100\n",
    "\n",
    "psize(4,4)\n",
    "\n",
    "plot.percentage <- (ggplot(data.df,aes(x=id,y=value,group=name,color=name))+geom_point(size=0.5)+\n",
    "        geom_line() +\n",
    "        scale_color_manual(values = colors_[c(8,4)])+\n",
    "        geom_abline(slope = 0,intercept = 1,color=colors_[8],linetype=3)+\n",
    "        geom_vline(xintercept = 20,color=colors_[4],linetype=3)+\n",
    "        scale_y_continuous(\n",
    "            \"Explained Variance (%)\", \n",
    "            sec.axis = sec_axis(~ . , name = \"Modality Score (*0.1)\")\n",
    "          )+\n",
    "        theme_classic()+\n",
    "        xlab('PCs'))%>%scatter_style()+\n",
    "        theme(axis.text.x=element_blank(),\n",
    "              #axis.line.y.right = element_line(color =  colors_[8]),\n",
    "              axis.ticks.y.right = element_line(color =  colors_[8]),\n",
    "            axis.text.y.right = element_text(color =  colors_[8]), \n",
    "            axis.title.y.right = element_text(color =  colors_[8]),\n",
    "              \n",
    "            # axis.line.y.left = element_line(color = colors_[4]),\n",
    "              axis.ticks.y.left = element_line(color = colors_[4]),\n",
    "            axis.text.y.left = element_text(color = colors_[4]), \n",
    "            axis.title.y.left = element_text(color =colors_[4])\n",
    "        )"
   ]
  },
  {
   "cell_type": "code",
   "execution_count": 12,
   "metadata": {},
   "outputs": [
    {
     "data": {
      "image/png": "[encoded data removed]",
      "text/plain": [
       "plot without title"
      ]
     },
     "metadata": {
      "image/png": {
       "height": 240,
       "width": 240
      }
     },
     "output_type": "display_data"
    }
   ],
   "source": [
    "plot.percentage"
   ]
  },
  {
   "cell_type": "markdown",
   "metadata": {},
   "source": [
    "## we select PC1 to do decoupling"
   ]
  },
  {
   "cell_type": "code",
   "execution_count": 13,
   "metadata": {},
   "outputs": [],
   "source": [
    "select.pcs <- 1"
   ]
  },
  {
   "cell_type": "markdown",
   "metadata": {},
   "source": [
    "## visulized data distribution on selected PCs"
   ]
  },
  {
   "cell_type": "code",
   "execution_count": 14,
   "metadata": {},
   "outputs": [],
   "source": [
    "pc.number<-7\n",
    "Z_PC_matrix <- Z_pca_results$x\n",
    "Z_projection_genebypc <- Z_pca_results$rotation"
   ]
  },
  {
   "cell_type": "code",
   "execution_count": 15,
   "metadata": {},
   "outputs": [
    {
     "name": "stdout",
     "output_type": "stream",
     "text": [
      "number of iterations= 12 \n"
     ]
    }
   ],
   "source": [
    "set.seed(0)\n",
    "Z_EM_results_d1 <- normalmixEM(Z_PC_matrix[,1])\n",
    "\n",
    "labels <- (Z_EM_results_d1$posterior)%>%apply(1,which.max)\n",
    "\n",
    "mat.df <- cbind(Z_PC_matrix[,1],labels)%>%as.data.frame%>%rename_with(~c('value','label'))"
   ]
  },
  {
   "cell_type": "code",
   "execution_count": 16,
   "metadata": {},
   "outputs": [],
   "source": [
    "hist.all=hist(mat.df%>%pull(value),1000,plot = FALSE)\n",
    "hist.1=hist(mat.df%>%filter(label==1)%>%pull(value),breaks = hist.all$breaks,plot = FALSE)\n",
    "hist.2=hist(mat.df%>%filter(label==2)%>%pull(value),breaks = hist.all$breaks,plot = FALSE)"
   ]
  },
  {
   "cell_type": "code",
   "execution_count": 17,
   "metadata": {},
   "outputs": [],
   "source": [
    "mat.df <- cbind(((hist.all$breaks)+0.01)%>%.[1:(length(.)-1)],\n",
    "                hist.1$density,\n",
    "                (hist.1$density%>%smooth.spline(spar = 0.5)%>%.$y),'cluster1')%>%\n",
    "    rbind(cbind(((hist.all$breaks)+0.01)%>%.[1:(length(.)-1)],\n",
    "                hist.2$density,\n",
    "                (hist.2$density%>%smooth.spline(spar = 0.5)%>%.$y),'cluster2'))%>%\n",
    "    as.data.frame%>%rename_with(~c('breaks','value','smooth.value','label'))\n",
    "\n",
    "mat.df$breaks <- as.numeric(mat.df$breaks)\n",
    "mat.df$value <- as.numeric(mat.df$value)\n",
    "mat.df$smooth.value <- as.numeric(mat.df$smooth.value)\n",
    "\n",
    "mat.df.filter <- mat.df%>%filter(value!=0)%>%mutate(smooth.value=ifelse(smooth.value<0,0,smooth.value))"
   ]
  },
  {
   "cell_type": "code",
   "execution_count": 18,
   "metadata": {},
   "outputs": [],
   "source": [
    "p.z.distribution <-  ggplot(mat.df%>%filter(value!=0)%>%mutate(smooth.value=ifelse(smooth.value<0,0,smooth.value)),\n",
    "           aes(x=breaks,y=value,fill=label))+\n",
    "    geom_col(alpha=0.3)+\n",
    "    scale_color_manual(values=colors_[c(4,8)])+\n",
    "    scale_fill_manual(values=colors_[c(4,8)])+\n",
    "    #geom_density()+\n",
    "    geom_line(aes(y=smooth.value,color=label),size=1)+\n",
    "    scale_y_continuous(expand = expansion(mult = c(0, .1)))+\n",
    "    #scale_color_manual(values=c('#FF6666','#E69F00'))+\n",
    "    theme_classic()+\n",
    "    xlab('PC1 value')+ylab('Frequency')+\n",
    "    theme(axis.ticks.x=element_blank(),\n",
    "          axis.ticks.y=element_blank(),\n",
    "         axis.text=element_text(size=12,color = 'black'),\n",
    "         axis.title=element_text(size=15,face='bold',color = 'black'))"
   ]
  },
  {
   "cell_type": "code",
   "execution_count": 19,
   "metadata": {},
   "outputs": [
    {
     "data": {
      "image/png": "[encoded data removed]",
      "text/plain": [
       "plot without title"
      ]
     },
     "metadata": {
      "image/png": {
       "height": 240,
       "width": 240
      }
     },
     "output_type": "display_data"
    }
   ],
   "source": [
    "p.z.distribution"
   ]
  },
  {
   "cell_type": "markdown",
   "metadata": {},
   "source": [
    "### plot data using true labels"
   ]
  },
  {
   "cell_type": "code",
   "execution_count": 20,
   "metadata": {},
   "outputs": [],
   "source": [
    "mat.label <- readRDS('rds/NT.essential.raw.k562_rpe1_combine_type.rds')%>%select(celltype)\n",
    "\n",
    "labels <- mat.label$celltype\n",
    "\n",
    "mat.df <- cbind(Z_PC_matrix[,1],labels)%>%as.data.frame%>%rename_with(~c('value','label'))\n",
    "\n",
    "mat.df$value <-as.numeric(mat.df$value)"
   ]
  },
  {
   "cell_type": "code",
   "execution_count": 21,
   "metadata": {},
   "outputs": [],
   "source": [
    "hist.all=hist(mat.df%>%pull(value),1000,plot = FALSE)\n",
    "hist.1=hist(mat.df%>%filter(label=='k562')%>%pull(value),breaks = hist.all$breaks,plot = FALSE)\n",
    "hist.2=hist(mat.df%>%filter(label=='rpe1')%>%pull(value),breaks = hist.all$breaks,plot = FALSE)"
   ]
  },
  {
   "cell_type": "code",
   "execution_count": 22,
   "metadata": {},
   "outputs": [],
   "source": [
    "mat.df <- cbind(((hist.all$breaks)+0.01)%>%.[1:(length(.)-1)],\n",
    "                hist.1$density,\n",
    "                (hist.1$density%>%smooth.spline(spar = 0.5)%>%.$y),'k562')%>%\n",
    "    rbind(cbind(((hist.all$breaks)+0.01)%>%.[1:(length(.)-1)],\n",
    "                hist.2$density,\n",
    "                (hist.2$density%>%smooth.spline(spar = 0.5)%>%.$y),'rpe1'))%>%\n",
    "    as.data.frame%>%rename_with(~c('breaks','value','smooth.value','label'))\n",
    "\n",
    "mat.df$breaks <- as.numeric(mat.df$breaks)\n",
    "mat.df$value <- as.numeric(mat.df$value)\n",
    "mat.df$smooth.value <- as.numeric(mat.df$smooth.value)\n",
    "\n",
    "mat.df.filter <- mat.df%>%filter(value!=0)%>%mutate(smooth.value=ifelse(smooth.value<0,0,smooth.value))"
   ]
  },
  {
   "cell_type": "code",
   "execution_count": 23,
   "metadata": {},
   "outputs": [],
   "source": [
    "p.z.distribution <-  ggplot(mat.df%>%filter(value!=0)%>%mutate(smooth.value=ifelse(smooth.value<0,0,smooth.value)),\n",
    "           aes(x=breaks,y=value,fill=label))+\n",
    "    geom_col(alpha=0.3)+\n",
    "    scale_color_manual(values=colors_[c(4,8)])+\n",
    "    scale_fill_manual(values=colors_[c(4,8)])+\n",
    "    #geom_density()+\n",
    "    geom_line(aes(y=smooth.value,color=label),size=1)+\n",
    "    scale_y_continuous(expand = expansion(mult = c(0, .1)))+\n",
    "    #scale_color_manual(values=c('#FF6666','#E69F00'))+\n",
    "    theme_classic()+\n",
    "    xlab('PC1 value')+ylab('Frequency')+\n",
    "    theme(axis.ticks.x=element_blank(),\n",
    "          axis.ticks.y=element_blank(),\n",
    "         axis.text=element_text(size=12,color = 'black'),\n",
    "         axis.title=element_text(size=15,face='bold',color = 'black'))"
   ]
  },
  {
   "cell_type": "code",
   "execution_count": 24,
   "metadata": {},
   "outputs": [
    {
     "data": {
      "image/png": "[encoded data removed]",
      "text/plain": [
       "plot without title"
      ]
     },
     "metadata": {
      "image/png": {
       "height": 240,
       "width": 240
      }
     },
     "output_type": "display_data"
    }
   ],
   "source": [
    "p.z.distribution"
   ]
  },
  {
   "cell_type": "code",
   "execution_count": null,
   "metadata": {},
   "outputs": [],
   "source": []
  },
  {
   "cell_type": "markdown",
   "metadata": {},
   "source": [
    "# load other information"
   ]
  },
  {
   "cell_type": "code",
   "execution_count": 25,
   "metadata": {},
   "outputs": [],
   "source": [
    "# we selected these gRNAs which target on more than 100 cells on both cell types\n",
    "# also, two cell lines have similar response to these gRNAs\n",
    "\n",
    "sites.tmp <- readRDS('rds/sgRNA.filtered.rds')\n",
    "\n",
    "# load the information of gRNA assignment in two cell lines\n",
    "sgrna.rpe1 <- readRDS('rds/sgRNA.rpe1.assign.rds')\n",
    "sgrna.k562 <- readRDS('rds/sgRNA.k562.assign.rds')\n",
    "\n",
    "# load the normalized data in two cell lines seperately\n",
    "# or you can generate these two dfs via assigning cell barcodes in sgrna.rpe1/sgrna.k562 to data.norm\n",
    "\n",
    "data.rpe1.processed <- readRDS('rds/data.norm.highsgRNA.rpe1.rds')\n",
    "data.k562.processed <- readRDS('rds/data.norm.highsgRNA.k562.rds')"
   ]
  },
  {
   "cell_type": "code",
   "execution_count": 45,
   "metadata": {},
   "outputs": [
    {
     "data": {
      "text/html": [
       "168"
      ],
      "text/latex": [
       "168"
      ],
      "text/markdown": [
       "168"
      ],
      "text/plain": [
       "[1] 168"
      ]
     },
     "metadata": {},
     "output_type": "display_data"
    }
   ],
   "source": [
    "sites.tmp%>%length"
   ]
  },
  {
   "cell_type": "code",
   "execution_count": 26,
   "metadata": {},
   "outputs": [],
   "source": [
    "cells.r.c <- sgrna.rpe1%>%filter(gene=='non-targeting')%>%rownames\n",
    "cells.k.c <- sgrna.k562%>%filter(gene=='non-targeting')%>%rownames\n",
    "Z.rpe1 = data.rpe1.processed[intersect(cells.r.c,rownames(data.rpe1.processed)),features.select]\n",
    "Z.k562 = data.k562.processed[intersect(cells.k.c,rownames(data.k562.processed)),features.select]\n",
    "pc.select <- 1"
   ]
  },
  {
   "cell_type": "markdown",
   "metadata": {},
   "source": [
    "# cellular response estimation and evaluationn"
   ]
  },
  {
   "cell_type": "code",
   "execution_count": 27,
   "metadata": {},
   "outputs": [],
   "source": [
    "# calculate the cellular reponse via FC estimation and scDecouple, respectively\n",
    "# compare the estimations with ground truth and evaluate the error"
   ]
  },
  {
   "cell_type": "code",
   "execution_count": 28,
   "metadata": {},
   "outputs": [],
   "source": [
    "calError_fun <- function(site){\n",
    "  \n",
    "    cells.r <- sgrna.rpe1%>%filter(gene==site)%>%rownames\n",
    "    cells.k <- sgrna.k562%>%filter(gene==site)%>%rownames\n",
    "    ## projection\n",
    "    Y.rpe1 = data.rpe1.processed[intersect(cells.r,rownames(data.rpe1.processed)),features.select]\n",
    "    Y.k562 = data.k562.processed[intersect(cells.k,rownames(data.k562.processed)),features.select]\n",
    "    Y = rbind(Y.rpe1,Y.k562)\n",
    "\n",
    "    res.fc <- cbind(Y.rpe1%>%colMeans - Z.rpe1%>%colMeans,\n",
    "                    Y.k562%>%colMeans - Z.k562%>%colMeans)%>%\n",
    "              as.data.frame%>%mutate(diff=V1-V2,mean=(V1+V2)/2)\n",
    "    res.fc.sub <- res.fc%>%filter(abs(diff)<0.05)%>%\n",
    "                  filter(abs(V1)>0.05,abs(V2)>0.05)\n",
    "\n",
    "    genes <- res.fc.sub%>%rownames\n",
    "\n",
    "    # ground truth： beta\n",
    "    # mean results: beta.mean.sub\n",
    "    # EM results: beta.em.sub\n",
    "\n",
    "    beta.mean <- rbind(Y.rpe1,Y.k562)%>%colMeans - rbind(Z.rpe1,Z.k562)%>%colMeans\n",
    "    beta.mean.sub <- beta.mean[genes]\n",
    "\n",
    "    beta <- res.fc %>%.[,'mean']\n",
    "    beta.sub <- res.fc%>%.[genes,'mean']\n",
    "\n",
    "    Y.proj <- Y %*% Z_projection_genebypc\n",
    "    beta.pc.mean <- colMeans(Y.proj) - colMeans(Z_PC_matrix)\n",
    "\n",
    "    \n",
    "    a=get_beta_EM_sep_method(y = Y.proj[,pc.select],number.component = 2,\n",
    "                        em = Z_EM_results_d1$mu, es = Z_EM_results_d1$sigma, \n",
    "                           el = Z_EM_results_d1$lambda, \n",
    "                        beta_init = beta.pc.mean[pc.select])\n",
    "\n",
    "    beta.pc.em <- beta.pc.mean\n",
    "    beta.pc.em[1] <- a$beta\n",
    "\n",
    "    beta.em <- beta.pc.em %*% t(Z_projection_genebypc) - colMeans(Z)\n",
    "    beta.mean <- beta.pc.mean %*% t(Z_projection_genebypc) - colMeans(Z)\n",
    "\n",
    "    # a=rbind(beta.em[,genes]-beta.sub,beta.mean[,genes]-beta.sub)%>%t%>%as.data.frame\n",
    "    # plot(abs(a[,1]),abs(a[,2]),cex=0.1)\n",
    "\n",
    "    df.error <- rbind(beta.em-beta,beta.mean-beta)%>%t%>%as.data.frame%>%rename_with(~c('em','fc'))%>%\n",
    "            rownames_to_column('gene')%>%mutate(feature.gene=ifelse(gene%in%genes,1,0),site=site)\n",
    "    #plot(df.error.tmp%>%filter(feature.gene==1)%>%pull(em),df.error.tmp%>%filter(feature.gene==1)%>%pull(fc),cex=0.1, xlab='em',ylab='fc')\n",
    "\n",
    "    return(df.error)\n",
    "    \n",
    "}"
   ]
  },
  {
   "cell_type": "code",
   "execution_count": 29,
   "metadata": {},
   "outputs": [],
   "source": [
    "res.error <- mclapply(sites.tmp,calError_fun,mc.cores = 80)"
   ]
  },
  {
   "cell_type": "code",
   "execution_count": 41,
   "metadata": {},
   "outputs": [],
   "source": [
    "df.error <- res.error%>%reduce(rbind)%>%select(gene,em,fc,site)%>%rename_with(~c('gene','scDecouple','FC_estimation','editting_site'))"
   ]
  },
  {
   "cell_type": "code",
   "execution_count": 42,
   "metadata": {},
   "outputs": [
    {
     "data": {
      "text/html": [
       "<table class=\"dataframe\">\n",
       "<caption>A data.frame: 6 × 4</caption>\n",
       "<thead>\n",
       "\t<tr><th></th><th scope=col>gene</th><th scope=col>scDecouple</th><th scope=col>FC_estimation</th><th scope=col>editting_site</th></tr>\n",
       "\t<tr><th></th><th scope=col>&lt;chr&gt;</th><th scope=col>&lt;dbl&gt;</th><th scope=col>&lt;dbl&gt;</th><th scope=col>&lt;chr&gt;</th></tr>\n",
       "</thead>\n",
       "<tbody>\n",
       "\t<tr><th scope=row>1</th><td>ENSG00000120738</td><td>-0.003210768</td><td>-0.008023087</td><td>MTG2</td></tr>\n",
       "\t<tr><th scope=row>2</th><td>ENSG00000168209</td><td>-0.003660919</td><td>-0.007914552</td><td>MTG2</td></tr>\n",
       "\t<tr><th scope=row>3</th><td>ENSG00000125148</td><td>-0.036602117</td><td> 0.246929079</td><td>MTG2</td></tr>\n",
       "\t<tr><th scope=row>4</th><td>ENSG00000140416</td><td>-0.035674014</td><td> 0.187041930</td><td>MTG2</td></tr>\n",
       "\t<tr><th scope=row>5</th><td>ENSG00000187837</td><td>-0.022769014</td><td>-0.107076017</td><td>MTG2</td></tr>\n",
       "\t<tr><th scope=row>6</th><td>ENSG00000148773</td><td>-0.044159891</td><td> 0.003953797</td><td>MTG2</td></tr>\n",
       "</tbody>\n",
       "</table>\n"
      ],
      "text/latex": [
       "A data.frame: 6 × 4\n",
       "\\begin{tabular}{r|llll}\n",
       "  & gene & scDecouple & FC\\_estimation & editting\\_site\\\\\n",
       "  & <chr> & <dbl> & <dbl> & <chr>\\\\\n",
       "\\hline\n",
       "\t1 & ENSG00000120738 & -0.003210768 & -0.008023087 & MTG2\\\\\n",
       "\t2 & ENSG00000168209 & -0.003660919 & -0.007914552 & MTG2\\\\\n",
       "\t3 & ENSG00000125148 & -0.036602117 &  0.246929079 & MTG2\\\\\n",
       "\t4 & ENSG00000140416 & -0.035674014 &  0.187041930 & MTG2\\\\\n",
       "\t5 & ENSG00000187837 & -0.022769014 & -0.107076017 & MTG2\\\\\n",
       "\t6 & ENSG00000148773 & -0.044159891 &  0.003953797 & MTG2\\\\\n",
       "\\end{tabular}\n"
      ],
      "text/markdown": [
       "\n",
       "A data.frame: 6 × 4\n",
       "\n",
       "| <!--/--> | gene &lt;chr&gt; | scDecouple &lt;dbl&gt; | FC_estimation &lt;dbl&gt; | editting_site &lt;chr&gt; |\n",
       "|---|---|---|---|---|\n",
       "| 1 | ENSG00000120738 | -0.003210768 | -0.008023087 | MTG2 |\n",
       "| 2 | ENSG00000168209 | -0.003660919 | -0.007914552 | MTG2 |\n",
       "| 3 | ENSG00000125148 | -0.036602117 |  0.246929079 | MTG2 |\n",
       "| 4 | ENSG00000140416 | -0.035674014 |  0.187041930 | MTG2 |\n",
       "| 5 | ENSG00000187837 | -0.022769014 | -0.107076017 | MTG2 |\n",
       "| 6 | ENSG00000148773 | -0.044159891 |  0.003953797 | MTG2 |\n",
       "\n"
      ],
      "text/plain": [
       "  gene            scDecouple   FC_estimation editting_site\n",
       "1 ENSG00000120738 -0.003210768 -0.008023087  MTG2         \n",
       "2 ENSG00000168209 -0.003660919 -0.007914552  MTG2         \n",
       "3 ENSG00000125148 -0.036602117  0.246929079  MTG2         \n",
       "4 ENSG00000140416 -0.035674014  0.187041930  MTG2         \n",
       "5 ENSG00000187837 -0.022769014 -0.107076017  MTG2         \n",
       "6 ENSG00000148773 -0.044159891  0.003953797  MTG2         "
      ]
     },
     "metadata": {},
     "output_type": "display_data"
    }
   ],
   "source": [
    "df.error%>%head"
   ]
  },
  {
   "cell_type": "code",
   "execution_count": null,
   "metadata": {},
   "outputs": [],
   "source": []
  },
  {
   "cell_type": "code",
   "execution_count": null,
   "metadata": {},
   "outputs": [],
   "source": []
  }
 ],
 "metadata": {
  "kernelspec": {
   "display_name": "R",
   "language": "R",
   "name": "ir"
  },
  "language_info": {
   "codemirror_mode": "r",
   "file_extension": ".r",
   "mimetype": "text/x-r-source",
   "name": "R",
   "pygments_lexer": "r",
   "version": "4.1.1"
  }
 },
 "nbformat": 4,
 "nbformat_minor": 4
}
