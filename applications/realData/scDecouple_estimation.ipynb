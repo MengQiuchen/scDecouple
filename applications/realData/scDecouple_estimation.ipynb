{
 "cells": [
  {
   "cell_type": "code",
   "execution_count": 1,
   "metadata": {},
   "outputs": [],
   "source": [
    "scatter_style <- function(ggplot_,legend_position='none',xlab_='PC1',ylab_='PC2',title='',\n",
    "                          x.angle=0,ratio=1){\n",
    "    sp <- ggplot_+theme_classic()+  \n",
    "        #border()+\n",
    "#         xlab(xlab_)+\n",
    "#         ylab(ylab_)+\n",
    "        ggtitle(title)+\n",
    "        theme(legend.position=legend_position,\n",
    "              title=element_text(size = 8, face = \"bold\"),\n",
    "              aspect.ratio = ratio, \n",
    "                axis.text.x = element_text(angle=x.angle,size = 8),\n",
    "                axis.title.x = element_text(size = 8, face = \"bold\"),\n",
    "                axis.text.y = element_text(size = 8),\n",
    "                axis.title.y = element_text(size = 8, face = \"bold\"))\n",
    "    return(sp)\n",
    "}"
   ]
  },
  {
   "cell_type": "code",
   "execution_count": 2,
   "metadata": {},
   "outputs": [
    {
     "data": {
      "image/png": "[encoded data removed]",
      "text/plain": [
       "plot without title"
      ]
     },
     "metadata": {
      "image/png": {
       "height": 420,
       "width": 420
      }
     },
     "output_type": "display_data"
    }
   ],
   "source": [
    "colors_ <- ggsci::pal_npg()(10)\n",
    "scales::show_col(ggsci::pal_npg()(10))"
   ]
  },
  {
   "cell_type": "code",
   "execution_count": 3,
   "metadata": {},
   "outputs": [],
   "source": [
    "color_ <- colors_[c(1,2)]"
   ]
  },
  {
   "cell_type": "markdown",
   "metadata": {},
   "source": [
    "## load variables"
   ]
  },
  {
   "cell_type": "code",
   "execution_count": 4,
   "metadata": {},
   "outputs": [
    {
     "name": "stderr",
     "output_type": "stream",
     "text": [
      "Warning message:\n",
      "“package ‘pheatmap’ was built under R version 4.1.3”\n"
     ]
    }
   ],
   "source": [
    "source('function.r')"
   ]
  },
  {
   "cell_type": "code",
   "execution_count": 7,
   "metadata": {},
   "outputs": [],
   "source": [
    "psize(6,6)"
   ]
  },
  {
   "cell_type": "code",
   "execution_count": 5,
   "metadata": {},
   "outputs": [],
   "source": [
    "load('data/variables_fromPreprocessing.image')"
   ]
  },
  {
   "cell_type": "code",
   "execution_count": 6,
   "metadata": {},
   "outputs": [
    {
     "data": {
      "text/html": [
       "<style>\n",
       ".list-inline {list-style: none; margin:0; padding: 0}\n",
       ".list-inline>li {display: inline-block}\n",
       ".list-inline>li:not(:last-child)::after {content: \"\\00b7\"; padding: 0 .5ex}\n",
       "</style>\n",
       "<ol class=list-inline><li>'color_'</li><li>'colors_'</li><li>'CROP_variable_genes'</li><li>'get_beta_EM_sep_method'</li><li>'psize'</li><li>'restorePsize'</li><li>'scatter_style'</li><li>'X_design.stimulated'</li><li>'Y.stimulated'</li><li>'Z.stimulated'</li></ol>\n"
      ],
      "text/latex": [
       "\\begin{enumerate*}\n",
       "\\item 'color\\_'\n",
       "\\item 'colors\\_'\n",
       "\\item 'CROP\\_variable\\_genes'\n",
       "\\item 'get\\_beta\\_EM\\_sep\\_method'\n",
       "\\item 'psize'\n",
       "\\item 'restorePsize'\n",
       "\\item 'scatter\\_style'\n",
       "\\item 'X\\_design.stimulated'\n",
       "\\item 'Y.stimulated'\n",
       "\\item 'Z.stimulated'\n",
       "\\end{enumerate*}\n"
      ],
      "text/markdown": [
       "1. 'color_'\n",
       "2. 'colors_'\n",
       "3. 'CROP_variable_genes'\n",
       "4. 'get_beta_EM_sep_method'\n",
       "5. 'psize'\n",
       "6. 'restorePsize'\n",
       "7. 'scatter_style'\n",
       "8. 'X_design.stimulated'\n",
       "9. 'Y.stimulated'\n",
       "10. 'Z.stimulated'\n",
       "\n",
       "\n"
      ],
      "text/plain": [
       " [1] \"color_\"                 \"colors_\"                \"CROP_variable_genes\"   \n",
       " [4] \"get_beta_EM_sep_method\" \"psize\"                  \"restorePsize\"          \n",
       " [7] \"scatter_style\"          \"X_design.stimulated\"    \"Y.stimulated\"          \n",
       "[10] \"Z.stimulated\"          "
      ]
     },
     "metadata": {},
     "output_type": "display_data"
    }
   ],
   "source": [
    "ls()"
   ]
  },
  {
   "cell_type": "code",
   "execution_count": 8,
   "metadata": {},
   "outputs": [],
   "source": [
    "# TCR related signature genes mentioned in paper\n",
    "a <- read.csv(file='./data/165genes.txt',header = F,row.names=1)\n",
    "paper_mentioned_gene_names <- gsub(\" \",\"\", rownames(a))"
   ]
  },
  {
   "cell_type": "markdown",
   "metadata": {},
   "source": [
    "## Normalize the data -- make each cell's library size EQUAL"
   ]
  },
  {
   "cell_type": "code",
   "execution_count": 9,
   "metadata": {},
   "outputs": [],
   "source": [
    "Y.stimulated <- (Y.stimulated/rowSums(Y.stimulated)*10000)\n",
    "Z.stimulated <- (Z.stimulated/rowSums(Z.stimulated)*10000)"
   ]
  },
  {
   "cell_type": "markdown",
   "metadata": {},
   "source": [
    "# preprocessing of control cells Z"
   ]
  },
  {
   "cell_type": "markdown",
   "metadata": {},
   "source": [
    "### counts to log(counts)  and select variable genes"
   ]
  },
  {
   "cell_type": "code",
   "execution_count": 10,
   "metadata": {},
   "outputs": [],
   "source": [
    "Z_log <- log(Z.stimulated+1)\n",
    "colnames(Z_log) <- gsub(\"_\",\"-\", colnames(Z_log))\n",
    "Z_log_sub <- Z_log[,CROP_variable_genes]"
   ]
  },
  {
   "cell_type": "markdown",
   "metadata": {},
   "source": [
    "### do PCA without center or scaling on Variable Genes"
   ]
  },
  {
   "cell_type": "code",
   "execution_count": 24,
   "metadata": {},
   "outputs": [],
   "source": [
    "Z_pca_results <- prcomp(Z_log_sub, center=TRUE, scale. = FALSE)\n",
    "\n",
    "pc.select.sdev <- which(Z_pca_results$sdev >1)\n",
    "\n",
    "select.pcs <- which((Z_pca_results$x)[,pc.select.sdev]%>%apply(2,function(x){x%>%dip.test%>%.[['statistic']]})>0.0125)"
   ]
  },
  {
   "cell_type": "code",
   "execution_count": 25,
   "metadata": {},
   "outputs": [
    {
     "data": {
      "text/html": [
       "<style>\n",
       ".dl-inline {width: auto; margin:0; padding: 0}\n",
       ".dl-inline>dt, .dl-inline>dd {float: none; width: auto; display: inline-block}\n",
       ".dl-inline>dt::after {content: \":\\0020\"; padding-right: .5ex}\n",
       ".dl-inline>dt:not(:first-of-type) {padding-left: .5ex}\n",
       "</style><dl class=dl-inline><dt>PC1</dt><dd>1</dd><dt>PC8</dt><dd>8</dd><dt>PC17</dt><dd>17</dd></dl>\n"
      ],
      "text/latex": [
       "\\begin{description*}\n",
       "\\item[PC1] 1\n",
       "\\item[PC8] 8\n",
       "\\item[PC17] 17\n",
       "\\end{description*}\n"
      ],
      "text/markdown": [
       "PC1\n",
       ":   1PC8\n",
       ":   8PC17\n",
       ":   17\n",
       "\n"
      ],
      "text/plain": [
       " PC1  PC8 PC17 \n",
       "   1    8   17 "
      ]
     },
     "metadata": {},
     "output_type": "display_data"
    }
   ],
   "source": [
    "select.pcs"
   ]
  },
  {
   "cell_type": "markdown",
   "metadata": {},
   "source": [
    "# select cell*PCs matrix"
   ]
  },
  {
   "cell_type": "markdown",
   "metadata": {},
   "source": [
    "### get PCA  matrix and rotation"
   ]
  },
  {
   "cell_type": "code",
   "execution_count": 27,
   "metadata": {
    "scrolled": true
   },
   "outputs": [],
   "source": [
    "Z_PC_matrix <- Z_pca_results$x\n",
    "\n",
    "Z_projection_genebypc <- Z_pca_results$rotation"
   ]
  },
  {
   "cell_type": "markdown",
   "metadata": {},
   "source": [
    "# clculate clusters' parameters on Z (k=2)"
   ]
  },
  {
   "cell_type": "code",
   "execution_count": 28,
   "metadata": {},
   "outputs": [],
   "source": [
    "set.seed(0)"
   ]
  },
  {
   "cell_type": "code",
   "execution_count": 29,
   "metadata": {
    "scrolled": true
   },
   "outputs": [
    {
     "name": "stdout",
     "output_type": "stream",
     "text": [
      "number of iterations= 163 \n"
     ]
    }
   ],
   "source": [
    "Z_EM_results <- mvnormalmixEM(Z_PC_matrix[,select.pcs],k = 2)"
   ]
  },
  {
   "cell_type": "code",
   "execution_count": 30,
   "metadata": {},
   "outputs": [],
   "source": [
    "z.labels <- Z_EM_results$posterior%>%apply(1,which.max)"
   ]
  },
  {
   "cell_type": "markdown",
   "metadata": {},
   "source": [
    "# plots"
   ]
  },
  {
   "cell_type": "markdown",
   "metadata": {},
   "source": [
    "## PC plots"
   ]
  },
  {
   "cell_type": "code",
   "execution_count": 34,
   "metadata": {},
   "outputs": [
    {
     "data": {
      "image/png": "[encoded data removed]",
      "text/plain": [
       "plot without title"
      ]
     },
     "metadata": {
      "image/png": {
       "height": 120,
       "width": 120
      }
     },
     "output_type": "display_data"
    }
   ],
   "source": [
    "data.df <- Z_pca_results$x[,select.pcs]%>%as.data.frame\n",
    "\n",
    "data.df <- data.df%>%mutate(label=as.character(z.labels))\n",
    "\n",
    "psize(2,2)\n",
    "\n",
    "plot.pc <- (ggplot(data.df,aes(x=PC1,y=PC17,color=label))+\n",
    "    geom_point(size = 0.2)+\n",
    "     scale_color_manual(values = color_)+\n",
    "    theme_classic())%>%scatter_style()\n",
    "\n",
    "plot.pc"
   ]
  },
  {
   "cell_type": "markdown",
   "metadata": {},
   "source": [
    "# log and projection"
   ]
  },
  {
   "cell_type": "code",
   "execution_count": 40,
   "metadata": {
    "scrolled": true
   },
   "outputs": [],
   "source": [
    "colnames(Y.stimulated) <- gsub('_','-', colnames(Y.stimulated))\n",
    "\n",
    "Y_sgRNA.stimulated <- list()\n",
    "Y_sgRNA_cellbypc.stimulated <- list()\n",
    "for(k in 1:dim(X_design.stimulated)[2]){\n",
    "    \n",
    "    Y_sgRNA.stimulated[[k]] <- Y.stimulated[X_design.stimulated[k]==1,CROP_variable_genes]\n",
    "    Y_sgRNA_cellbypc.stimulated[[k]] <- log(Y_sgRNA.stimulated[[k]]+1)  %*% Z_projection_genebypc\n",
    "\n",
    "}"
   ]
  },
  {
   "cell_type": "markdown",
   "metadata": {},
   "source": [
    "# claculate perturbation effects of 600 variable genes"
   ]
  },
  {
   "cell_type": "markdown",
   "metadata": {},
   "source": [
    "# <font color=red>original paper's results</font>"
   ]
  },
  {
   "cell_type": "code",
   "execution_count": 46,
   "metadata": {},
   "outputs": [],
   "source": [
    "b <- list()\n",
    "b_all <- c()\n",
    "for(k in 1:dim(X_design.stimulated)[2]){\n",
    "    b[[k]] <- (colMeans(log(Y_sgRNA.stimulated[[k]]+1)) - colMeans(Z_log_sub))\n",
    "    b_all <- cbind(b_all,b[[k]])\n",
    "}\n",
    "\n"
   ]
  },
  {
   "cell_type": "code",
   "execution_count": 52,
   "metadata": {
    "scrolled": true
   },
   "outputs": [],
   "source": [
    "Y_sgRNA_all.stimulated <- list()\n",
    "for(k in 1:dim(X_design.stimulated)[2]){\n",
    "    \n",
    "    Y_sgRNA_all.stimulated[[k]] <- Y.stimulated[X_design.stimulated[k]==1,]\n",
    "    #cat(\"\\ndimension of sgRNA\",k,\" \", colnames(X_design.stimulated)[k],\": \", dim(Y_sgRNA_all.stimulated[[k]]))\n",
    "    \n",
    "    #Y_sgRNA_all.unstimulated[[k]] <- apply(Y_sgRNA_all[[k]],c(1,2),as.double)\n",
    "}\n",
    "\n",
    "bb.stimulate <- list()\n",
    "bb_all.stimulated <- c()\n",
    "for(k in 1:dim(X_design.stimulated)[2]){\n",
    "    bb.stimulate[[k]] <- (colMeans(log(Y_sgRNA_all.stimulated[[k]]+1)) - colMeans(Z_log))\n",
    "    bb_all.stimulated <- cbind(bb_all.stimulated,bb.stimulate[[k]])\n",
    "}\n",
    "rownames(bb_all.stimulated) <- colnames(Z.stimulated)\n",
    "colnames(bb_all.stimulated) <- colnames(X_design.stimulated)"
   ]
  },
  {
   "cell_type": "markdown",
   "metadata": {},
   "source": [
    "# <font color=red>our results</font>"
   ]
  },
  {
   "cell_type": "markdown",
   "metadata": {},
   "source": [
    "## the perturbation of top 10 PCs"
   ]
  },
  {
   "cell_type": "markdown",
   "metadata": {},
   "source": [
    "### Mean Methods"
   ]
  },
  {
   "cell_type": "code",
   "execution_count": 41,
   "metadata": {
    "scrolled": true
   },
   "outputs": [
    {
     "name": "stdout",
     "output_type": "stream",
     "text": [
      "\n",
      " CTRL\n",
      "current ratio:  0.3332614 0.6667386\n",
      "original ratio:  0.3332628 0.6667372\n",
      " JUND\n",
      "current ratio:  0.6955578 0.3044422\n",
      "original ratio:  0.3332628 0.6667372\n",
      " BACH2\n",
      "current ratio:  0.1427719 0.8572281\n",
      "original ratio:  0.3332628 0.6667372\n",
      " NFKB2\n",
      "current ratio:  0.2731705 0.7268295\n",
      "original ratio:  0.3332628 0.6667372\n",
      " JUN\n",
      "current ratio:  0.3578614 0.6421386\n",
      "original ratio:  0.3332628 0.6667372\n",
      " NFKB1\n",
      "current ratio:  0.2289761 0.7710239\n",
      "original ratio:  0.3332628 0.6667372\n",
      " JUNB\n",
      "current ratio:  0.3032998 0.6967002\n",
      "original ratio:  0.3332628 0.6667372\n",
      " NFATC1\n",
      "current ratio:  0.8441079 0.1558921\n",
      "original ratio:  0.3332628 0.6667372\n",
      " RELA\n",
      "current ratio:  0.6586547 0.3413453\n",
      "original ratio:  0.3332628 0.6667372\n",
      " RUNX2\n",
      "current ratio:  0.6283497 0.3716503\n",
      "original ratio:  0.3332628 0.6667372\n",
      " FOS\n",
      "current ratio:  0.230231 0.769769\n",
      "original ratio:  0.3332628 0.6667372\n",
      " RELB\n",
      "current ratio:  0.7195506 0.2804494\n",
      "original ratio:  0.3332628 0.6667372\n",
      " ZAP70\n",
      "current ratio:  0.7469923 0.2530077\n",
      "original ratio:  0.3332628 0.6667372\n",
      " EGR3\n",
      "current ratio:  0.2403219 0.7596781\n",
      "original ratio:  0.3332628 0.6667372\n",
      " EGR1\n",
      "current ratio:  0.2908471 0.7091529\n",
      "original ratio:  0.3332628 0.6667372\n",
      " DOK2\n",
      "current ratio:  0.7650805 0.2349195\n",
      "original ratio:  0.3332628 0.6667372\n",
      " PTPN11\n",
      "current ratio:  0.585596 0.414404\n",
      "original ratio:  0.3332628 0.6667372\n",
      " NR4A1\n",
      "current ratio:  0.8150786 0.1849214\n",
      "original ratio:  0.3332628 0.6667372\n",
      " PTPN6\n",
      "current ratio:  0.6994744 0.3005256\n",
      "original ratio:  0.3332628 0.6667372\n",
      " EGR2\n",
      "current ratio:  0.3035387 0.6964613\n",
      "original ratio:  0.3332628 0.6667372\n",
      " NFAT5\n",
      "current ratio:  0.3145663 0.6854337\n",
      "original ratio:  0.3332628 0.6667372\n",
      " EGR4\n",
      "current ratio:  0.7423983 0.2576017\n",
      "original ratio:  0.3332628 0.6667372\n",
      " REL\n",
      "current ratio:  0.3082682 0.6917318\n",
      "original ratio:  0.3332628 0.6667372\n",
      " NFATC3\n",
      "current ratio:  0.3545638 0.6454362\n",
      "original ratio:  0.3332628 0.6667372\n",
      " NFATC2\n",
      "current ratio:  0.3628091 0.6371909\n",
      "original ratio:  0.3332628 0.6667372\n",
      " LAT\n",
      "current ratio:  0.577336 0.422664\n",
      "original ratio:  0.3332628 0.6667372"
     ]
    }
   ],
   "source": [
    "beta_PCs_EM_sep_all.stimulated <- list()\n",
    "beta_PCs_mean_all.stimulated <- list()\n",
    "Y_PCs_EM_sep_results_all.stimulated <- list()\n",
    "for(k in 1:dim(X_design.stimulated)[2])\n",
    "{\n",
    "    beta_PCs_mean_method.stimulated <- colMeans(Y_sgRNA_cellbypc.stimulated[[k]]) - colMeans(Z_PC_matrix)\n",
    "    beta_PCs_mean_all.stimulated[[k]] <- beta_PCs_mean_method.stimulated\n",
    "    # when there are few perturbed cells, using mean results instead.  \n",
    "    if (colSums(X_design.stimulated)[k]<50){\n",
    "        beta_PCs_EM_sep_all.stimulated[[k]] <- beta_PCs_mean_method.stimulated[select.pcs]\n",
    "        next\n",
    "    }\n",
    "    Y_PCs_EM_sep_results.stimulated <- get_beta_EM_sep_method(y = Y_sgRNA_cellbypc.stimulated[[k]][,select.pcs],number.component = 2,\n",
    "                                                      em = Z_EM_results$mu, es = Z_EM_results$sigma, el = Z_EM_results$lambda, \n",
    "                                                      beta_init = beta_PCs_mean_method.stimulated[select.pcs] )\n",
    "    beta_PCs_EM_sep.stimulated <- Y_PCs_EM_sep_results.stimulated$beta\n",
    "    beta_PCs_EM_sep_all.stimulated[[k]] <- beta_PCs_EM_sep.stimulated\n",
    "\n",
    "    Y_PCs_EM_sep_results_all.stimulated[[k]] <- Y_PCs_EM_sep_results.stimulated\n",
    "    \n",
    "    cat(\"\\n\", colnames(X_design.stimulated)[k])\n",
    "    cat(\"\\ncurrent ratio: \",Y_PCs_EM_sep_results.stimulated$el)\n",
    "    cat(\"\\noriginal ratio: \", Z_EM_results$lambda)\n",
    "    \n",
    "    \n",
    "}"
   ]
  },
  {
   "cell_type": "code",
   "execution_count": 42,
   "metadata": {},
   "outputs": [],
   "source": [
    "psize(2,2)\n",
    "plot.pc.y.list <- c()\n",
    "for(i in 1:33 ){\n",
    "    if(length(Y_PCs_EM_sep_results_all.stimulated[[i]])){\n",
    "        y.labels <- Y_PCs_EM_sep_results_all.stimulated[[i]]%>%.$ey%>%apply(1,which.max)\n",
    "\n",
    "        data.df <- Y_sgRNA_cellbypc.stimulated[[i]]%>%.[,select.pcs]%>%as.data.frame%>%\n",
    "                    mutate(label=as.character(Y_PCs_EM_sep_results_all.stimulated[[i]]%>%.$ey%>%apply(1,which.max)))\n",
    "\n",
    "        plot.pc.y.list[[i]] <- (ggplot(data.df,aes(x=PC1,y=PC17,color=label))+\n",
    "            geom_point(size = 0.2)+\n",
    "            #xlim(-17,5)+\n",
    "             scale_color_manual(values = color_)+\n",
    "            theme_classic())%>%scatter_style(\n",
    "            title = paste( i,Y_PCs_EM_sep_results_all.stimulated[[i]]%>%.$el%>%.[1]%>%round(2))\n",
    "            )\n",
    "    }\n",
    "\n",
    "}"
   ]
  },
  {
   "cell_type": "markdown",
   "metadata": {},
   "source": [
    "## Get final perturbation effects"
   ]
  },
  {
   "cell_type": "markdown",
   "metadata": {},
   "source": [
    "### Mean Methods"
   ]
  },
  {
   "cell_type": "code",
   "execution_count": 43,
   "metadata": {
    "scrolled": true
   },
   "outputs": [],
   "source": [
    "beta_EM_sep_all.stimulated <- list()\n",
    "beta_mean_all.stimulated  <- list()\n",
    "beta_mean_matrix.stimulated  <- c()\n",
    "beta_EM_matrix.stimulated  <- c()\n",
    "for(k in 1:dim(X_design.stimulated )[2])\n",
    "{\n",
    "    beta_mean_all.stimulated[[k]] <- beta_PCs_mean_all.stimulated[[k]] %*% t(Z_projection_genebypc) - colMeans(Z_log_sub)\n",
    "    beta_mean_matrix.stimulated <- rbind(beta_mean_matrix.stimulated, beta_mean_all.stimulated[[k]] )\n",
    "\n",
    "}\n",
    "rownames(beta_mean_matrix.stimulated) <- colnames(X_design.stimulated)"
   ]
  },
  {
   "cell_type": "markdown",
   "metadata": {},
   "source": [
    "## EM results"
   ]
  },
  {
   "cell_type": "code",
   "execution_count": 45,
   "metadata": {},
   "outputs": [],
   "source": [
    "beta_EM_sep_all.stimulated <- list()\n",
    "# beta_mean_all <- list()\n",
    "# beta_mean_matrix <- c()\n",
    "beta_EM_matrix.stimulated <- c()\n",
    "for(k in 1:dim(X_design.stimulated)[2])\n",
    "{\n",
    "\n",
    "    beta_EM_sep_tmp <- beta_PCs_mean_all.stimulated[[k]]\n",
    "    beta_EM_sep_tmp[select.pcs] <-  beta_PCs_EM_sep_all.stimulated[[k]]\n",
    "    \n",
    "    beta_EM_sep_all.stimulated[[k]] <- beta_EM_sep_tmp %*% t(Z_projection_genebypc) - colMeans(Z_log_sub)\n",
    "    beta_EM_matrix.stimulated <- rbind(beta_EM_matrix.stimulated, beta_EM_sep_all.stimulated[[k]])\n",
    "\n",
    "    \n",
    "}\n",
    "rownames(beta_EM_matrix.stimulated) <- colnames(X_design.stimulated)"
   ]
  },
  {
   "cell_type": "markdown",
   "metadata": {},
   "source": [
    "# ALL sgRNAs"
   ]
  },
  {
   "cell_type": "code",
   "execution_count": 55,
   "metadata": {},
   "outputs": [],
   "source": [
    "beta_EM_matrix_all.stimulated <- cbind(beta_EM_matrix.stimulated, \n",
    "                                       t(bb_all.stimulated[setdiff(rownames(bb_all.stimulated),gsub('-','_',CROP_variable_genes)),]) )\n",
    "\n",
    "beta_mean_matrix_all.stimulated <- cbind(beta_mean_matrix.stimulated, \n",
    "                                         t(bb_all.stimulated[setdiff(rownames(bb_all.stimulated),gsub('-','_',CROP_variable_genes)),]))\n",
    "\n",
    "\n",
    "diff <- beta_EM_matrix_all.stimulated - beta_mean_matrix_all.stimulated"
   ]
  },
  {
   "cell_type": "code",
   "execution_count": 86,
   "metadata": {},
   "outputs": [],
   "source": [
    "# select the top effective gRNA to plot"
   ]
  },
  {
   "cell_type": "code",
   "execution_count": 83,
   "metadata": {},
   "outputs": [],
   "source": [
    "sites <- which(X_design.stimulated%>%colSums>60)%>%names"
   ]
  },
  {
   "cell_type": "code",
   "execution_count": 84,
   "metadata": {},
   "outputs": [],
   "source": [
    "psize(5,6)"
   ]
  },
  {
   "cell_type": "code",
   "execution_count": 91,
   "metadata": {},
   "outputs": [
    {
     "data": {
      "image/png": "[encoded data removed]",
      "text/plain": [
       "plot without title"
      ]
     },
     "metadata": {
      "image/png": {
       "height": 360,
       "width": 300
      }
     },
     "output_type": "display_data"
    }
   ],
   "source": [
    "max =0.5\n",
    "len = length(seq(-max,max,0.001))\n",
    "temp_heatmap <- pheatmap(-(beta_EM_matrix_all.stimulated[sites[2:length(sites)],intersect(paper_mentioned_gene_names, \n",
    "                                                                     rownames(bb_all.stimulated))]),\n",
    "                         cluster_cols=F,cluster_rows = T,breaks = seq(-max,max,0.001),cellheight=10,\n",
    "                         show_colnames = F,show_rownames=T,width=50,fontsize_row=10, fontsize_col=10,angle_col=90,\n",
    "                         color = colorRampPalette(c(\"blue\", \"white\", \"firebrick3\"))(len))"
   ]
  },
  {
   "cell_type": "code",
   "execution_count": null,
   "metadata": {},
   "outputs": [],
   "source": []
  }
 ],
 "metadata": {
  "kernelspec": {
   "display_name": "R",
   "language": "R",
   "name": "ir"
  },
  "language_info": {
   "codemirror_mode": "r",
   "file_extension": ".r",
   "mimetype": "text/x-r-source",
   "name": "R",
   "pygments_lexer": "r",
   "version": "4.1.1"
  }
 },
 "nbformat": 4,
 "nbformat_minor": 4
}
