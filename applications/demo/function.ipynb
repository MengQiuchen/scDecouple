{
 "cells": [
  {
   "cell_type": "code",
   "execution_count": 1,
   "metadata": {},
   "outputs": [
    {
     "ename": "ERROR",
     "evalue": "Error in library(enrichr): there is no package called ‘enrichr’\n",
     "output_type": "error",
     "traceback": [
      "Error in library(enrichr): there is no package called ‘enrichr’\nTraceback:\n",
      "1. suppressPackageStartupMessages({\n .     library(tidyverse)\n .     library(enrichr)\n .     library(mixtools)\n .     library(diptest)\n .     library(Seurat)\n . })",
      "2. withCallingHandlers(expr, packageStartupMessage = function(c) tryInvokeRestart(\"muffleMessage\"))",
      "3. library(enrichr)   # at line 3 of file <text>"
     ]
    }
   ],
   "source": [
    "suppressPackageStartupMessages({\n",
    "    library(tidyverse)\n",
    "    library(enrichr)\n",
    "    library(mixtools)\n",
    "    library(diptest)\n",
    "    library(Seurat)\n",
    "})\n",
    "\n",
    "# decoupling process\n",
    "get_beta_EM_sep_method <- function(y, number.component, em, es, el, beta_init,\n",
    "                                   max.step = 100, fix_es = FALSE){\n",
    "\n",
    "    if(!length(dim(y))){# one-dim\n",
    "        number.sample <- length(y)\n",
    "        dim <- 1\n",
    "    }else{\n",
    "        number.sample <- dim(y)[1]\n",
    "        dim <- dim(y)[2] \n",
    "    } \n",
    "    \n",
    "    Q_before <- 0\n",
    "    beta <- beta_init\n",
    "    ey <- matrix(NA, nrow = number.sample, ncol = number.component)\n",
    "    dy <- matrix(NA, nrow = number.sample, ncol = number.component)\n",
    "    for (k in 1:max.step) {\n",
    "\n",
    "        for (j in 1:number.component) {\n",
    "            if(dim==1){\n",
    "                dy[, j] <- (dnorm(data.matrix(y), as.matrix(em[[j]] + \n",
    "                beta), es[[j]])) * el[j]\n",
    "            }else{\n",
    "            dy[, j] <- (dmvnorm(data.matrix(y), as.matrix(em[[j]] + \n",
    "                beta), es[[j]])) * el[j]                \n",
    "            }\n",
    "\n",
    "        }\n",
    "        for (i in 1:number.sample) {\n",
    "            sy <- sum(dy[i, ])\n",
    "            if (sy == 0) {\n",
    "                sy <- 1e-308\n",
    "            }\n",
    "            ey[i, ] <- dy[i, ]/sy\n",
    "        }\n",
    "        em_sum <- 0\n",
    "        \n",
    "\n",
    "        flag=TRUE\n",
    "        for (j in 1:number.component) {\n",
    "            el[j] <- sum(ey[, j])/number.sample\n",
    "            \n",
    "            if(!sum(ey[,j])){\n",
    "                flag=FALSE\n",
    "                print('WARNING:NOT CONVERGENT!')\n",
    "                break\n",
    "            }\n",
    "            if(dim==1){\n",
    "               em_sum <- em_sum + sum(ey[, j] * y)/sum(ey[, \n",
    "                j]) \n",
    "            }else{\n",
    "              em_sum <- em_sum + colSums(ey[, j] * y)/sum(ey[, \n",
    "                j])  \n",
    "            }\n",
    "            \n",
    "        }\n",
    "        if(!flag){ break }\n",
    "        beta <- em_sum/number.component - colMeans(matrix(unlist(em), \n",
    "            ncol = dim, byrow = TRUE))\n",
    "        if (!fix_es) {\n",
    "            for (j in 1:number.component) {\n",
    "                es_sum <- matrix(0, nrow = dim, ncol = dim)\n",
    "                for (i in 1:number.sample) {\n",
    "                    if(dim==1){\n",
    "                      es_sum <- es_sum + ey[i, j] * (t(y[i] - t(as.matrix(em[[j]] + \n",
    "                            beta))) %*% (y[i] - t(as.matrix(em[[j]] + \n",
    "                            beta))))  \n",
    "                    }else{\n",
    "                     es_sum <- es_sum + ey[i, j] * (t(y[i, ] - t(as.matrix(em[[j]] + \n",
    "                            beta))) %*% (y[i, ] - t(as.matrix(em[[j]] + \n",
    "                            beta))))\n",
    "                    }\n",
    "\n",
    "                }\n",
    "                es[[j]] <- es_sum/sum(ey[, j])\n",
    "            }\n",
    "        }\n",
    "        Q_after <- sum(log(rowSums(dy)))\n",
    "        if (abs(Q_after - Q_before) < 1e-06) {\n",
    "            break\n",
    "        }\n",
    "        else {\n",
    "            Q_before <- Q_after\n",
    "        }\n",
    "    }\n",
    "    result <- list(beta = beta, es = es, el = el, em = em, Q_after = Q_after, \n",
    "        ey = ey)\n",
    "}\n",
    "\n",
    "# step1: data preprocessing\n",
    "\n",
    "# the input is\n",
    "## Y: the perturbation group, cell-by-gene matrix\n",
    "## Z: the control group, cell-by-gene matrix\n",
    "data_preprocessing <- function(Y,Z){\n",
    "    \n",
    "    # the code shows the steps of preprocessing\n",
    "    ## 1. normalization and transformation\n",
    "    ## 2. variable gene selection\n",
    "\n",
    "    ## the following code shows a demo of data preprocessing\n",
    "\n",
    "    # select variable genes\n",
    "    ## using Seurat to do preprocessing\n",
    "    suppressWarnings({\n",
    "\n",
    "        Z.seurat <- CreateSeuratObject(counts = t(Z), min.cells = 0, min.features = 0)\n",
    "        Z.seurat <- NormalizeData(Z.seurat)\n",
    "        Z.seurat <- FindVariableFeatures(Z.seurat, selection.method = \"vst\", nfeatures = 600) \n",
    "\n",
    "        genes.variable <- VariableFeatures(Z.seurat)\n",
    "    })\n",
    "\n",
    "    # ## one method to do normalization & transfromation\n",
    "    # Z.norm.log <- as.matrix(Z.seurat@assays$RNA@data)\n",
    "\n",
    "    # ## another method \n",
    "    #### normalization & transformation\n",
    "    ## normalization another method to do normalization\n",
    "    Z.norm <- (Z/rowSums(Z)*10000)\n",
    "    Y.norm <- (Y/rowSums(Y)*10000)\n",
    "    ## log transformation\n",
    "    Z.norm.log <- log(Z.norm+1)\n",
    "    Y.norm.log <- log(Y.norm+1)\n",
    "\n",
    "    ## subset data matrix with variable genes\n",
    "    Z.norm.log.sub <- Z.norm.log[,genes.variable]\n",
    "    Y.norm.log.sub <- Y.norm.log[,genes.variable]\n",
    "\n",
    "    ## PCA\n",
    "    Z.pca.results <- prcomp(Z.norm.log.sub, center=TRUE, scale. = FALSE)\n",
    "\n",
    "    return(list(Z.norm.log.sub=Z.norm.log.sub,\n",
    "                Y.norm.log.sub=Y.norm.log.sub,\n",
    "                genes.variable=genes.variable,\n",
    "                Z.pca.results=Z.pca.results))\n",
    "\n",
    "}\n",
    "\n",
    "\n",
    "# step2: PC select\n",
    "\n",
    "## the input is:\n",
    "## 1. Z.pca.mat: PC matrix of control group, cells-by-PCs\n",
    "##### for example, the \"Z.pca.results$x\" from \"data_preprocessing\" function\n",
    "## 2.(optional) Z.pca.sdev: the standard deviation of PCs, the default is NULL\n",
    "##### for example, the \"Z.pca.results$sdev\" from \"data_preprocessing\" function\n",
    "##### if is not provided, we will calculated from Z.pca.mat\n",
    "## 3.(optional) using_rank: using rank (select PCs with top sdev &multimodality) or using value (set the threshold for sdev &mutlimodality) to select PCs, the default is TRUE\n",
    "## 4.(optinal) top.sdev: when using_rank=TRUE, to set the threshold of standard deviations of PCs, the default is 20\n",
    "## 5.(optinal) top.multimodal: when using_rank=TRUE, to set the threshold of dip statistics, the default is 3\n",
    "## 6.(optional) th.sdev: when using_rank=FALSE, to set the threshold of standard deviations of PCs, the default is 1\n",
    "## 7.(optional) th.multimodal: when using_rank=FALSE, to set the threshold of dip statistics, the default is 0.0125\n",
    "\n",
    "## the code shows the steps of PC selection based on explained variance and multimodality\n",
    "\n",
    "pc_selection <- function(Z.pca.mat,\n",
    "                         Z.pca.sdev=NULL,using_rank=TRUE, \n",
    "                         top.sdev=20, top.multimodal=3, th.sdev=1, th.multimodal=0.0125){\n",
    "    \n",
    "    # if Z.pca.sdev is not provided, we calculated by Z.pca.mat\n",
    "    if(!length(Z.pca.sdev)){\n",
    "        Z.pca.sdev <- Z.pca.mat%>%apply(2,sd)%>%as.numeric\n",
    "    }\n",
    "    \n",
    "    if(using_rank){\n",
    "        # use rank to select PCs\n",
    "        library(diptest)\n",
    "        select.pcs <- ((Z.pca.mat)[,1:top.sdev]%>%apply(2,function(x){x%>%dip.test%>%.[['statistic']]})%>%\n",
    "                       sort(decreasing = TRUE))[1:top.multimodal]%>%names\n",
    "        \n",
    "    }else{\n",
    "        # use value to select PCs\n",
    "        # selecte PCs by sdev\n",
    "        pc.select.sdev <- which(Z.pca.sdev > th.sdev)\n",
    "        # selecte PCs by multimodality\n",
    "        library(diptest)\n",
    "        select.pcs <- which((Z.pca.mat)[,pc.select.sdev]%>%\n",
    "                            apply(2,function(x){x%>%dip.test%>%.[['statistic']]})> th.multimodal)%>%names\n",
    "    }\n",
    "    \n",
    "    return(select.pcs)\n",
    "\n",
    "\n",
    "}\n",
    "\n",
    "\n",
    "# step3: deconvolution\n",
    "\n",
    "# this part used scDecouple to deconvolute the cellular response from infection bias\n",
    "\n",
    "## input:\n",
    "## 1. Z.pca.mat: PC matrix of control group, cell-by-PC.\n",
    "##### for example, the \"Z.pca.results$x\" from \"data_preprocessing\" function\n",
    "## 2. Z.pca.rotation: the matrix of variable loadings (i.e., a matrix whose columns contain the eigenvectors), gene-by-PC. \n",
    "#### for example, the \"Z.pca.results$rotation\" from \"data_preprocessing\" function, or \"rotation\" element from \"prcomp\" function.\n",
    "## 3. Y.norm.log.sub: PC matrix of perturbation group, cell-by-PC.\n",
    "## 4. seed_:(optional) the random seed for EM algorithm. Default is 0.\n",
    "\n",
    "## output:\n",
    "## 1. ratio.changes: the ratio changes of perturbation group compared with control group on chluster 1 to cluster n.\n",
    "## 2. beta.PC.scDecouple: the cellular response of each PC to the perturbation. the results were stored in list of double.\n",
    "\n",
    "scDecouple <- function(Z.pca.mat, Z.pca.rotation,Y.norm.log.sub,select.pcs, seed_=0){\n",
    "    ## projection\n",
    "    Z.PCA <- Z.pca.mat\n",
    "\n",
    "    ## map Y to PC space\n",
    "    Y.PCA <- Y.norm.log.sub  %*% Z.pca.rotation\n",
    "\n",
    "    library(mixtools)\n",
    "\n",
    "    ## control group cluster proporties estimation\n",
    "    set.seed(seed_)\n",
    "    Z.EM <- mvnormalmixEM(Z.PCA[,select.pcs],k = 2)\n",
    "\n",
    "    z.labels <- Z.EM$posterior%>%apply(1,which.max)\n",
    "\n",
    "    # plots of control cells\n",
    "\n",
    "    # deconvolutio\n",
    "    beta.PC <- colMeans(Y.PCA) - colMeans(Z.PCA)\n",
    "\n",
    "    Y.EM <- get_beta_EM_sep_method(y = Y.PCA[,select.pcs],number.component = 2,\n",
    "                                   em = Z.EM$mu, es = Z.EM$sigma, el = Z.EM$lambda, \n",
    "                                   beta_init = beta.PC[select.pcs] )\n",
    "    beta.scDecouple <- Y.EM$beta\n",
    "\n",
    "    # show results\n",
    "    ## ratio.changes\n",
    "    ratio.changes <- Y.EM$el - Z.EM$lambda \n",
    "\n",
    "    ## cellular responses on PCs\n",
    "    beta.PC.scDecouple <- beta.PC\n",
    "    beta.PC.scDecouple[select.pcs] <- beta.scDecouple\n",
    "    \n",
    "    return(list(ratio.changes=ratio.changes,\n",
    "                beta.PC.scDecouple=beta.PC.scDecouple\n",
    "                ))\n",
    "}\n",
    "\n",
    "# step4: downstream analysis\n",
    "\n",
    "## cellular response of each genes\n",
    "## input:\n",
    "## 1. Z.pca.rotation: the matrix of variable loadings (i.e., a matrix whose columns contain the eigenvectors), gene-by-PC. \n",
    "#### for example, the \"Z.pca.results$rotation\" from \"data_preprocessing\" function, or \"rotation\" element from \"prcomp\" function.\n",
    "## 2. beta.PC.scDecouple: the cellular response of each PC\n",
    "#### for example, the \"beta.PC.scDecouple\" from \"scDecouple\" function\n",
    "## 3. Z.norm.log.sub: the log-normalized control group gene expression matrix, cell-by-gene.\n",
    "#### for example, the \"Z.norm.log.sub\" from \"data_preprocessing\" function\n",
    "## 4. Y.norm.log.sub: the log-normalized perturbation group gene expression matrix, cell-by-gene.\n",
    "#### for example, the \"Y.norm.log.sub\" from \"data_preprocessing\" function\n",
    "## 5. degenes.num: (optional) the number of degenes to calculated GO enrichment. (default is 1500)\n",
    "\n",
    "## output:\n",
    "## 1. gene.rank: the rank of genes sorted by their response to perturbation\n",
    "## 2. GO.enrich: the enrichment results provided by enrichr function in enrichR library.\n",
    "downstream_analysis <- function(Z.pca.rotation, beta.PC.scDecouple, Z.norm.log.sub, Y.norm.log.sub,genes.variable,\n",
    "                                degenes.num=1500){\n",
    "    \n",
    "    # calculate the response of each gene by back projection to gene space\n",
    "    beta.variable.scDecouple <- beta.PC.scDecouple %*% t(Z.pca.rotation) - colMeans(Z.norm.log.sub)\n",
    "    beta.gene.fc <- colMeans(Y.norm.log.sub) - colMeans(Z.norm.log.sub)\n",
    "\n",
    "    beta.gene.scDecouple <- beta.gene.fc\n",
    "    beta.gene.scDecouple[genes.variable] <- beta.variable.scDecouple[,genes.variable]\n",
    "    \n",
    "    ## gene ranking\n",
    "    results.genesort <- beta.gene.scDecouple[beta.gene.scDecouple%>%abs %>% sort(decreasing = TRUE)%>%names]\n",
    "\n",
    "    results.genesort.fc <- beta.gene.fc[beta.gene.fc%>%abs %>% sort(decreasing = TRUE)%>%names]\n",
    "    \n",
    "    ## ## gene enrichment\n",
    "    library('enrichR')\n",
    "    degenes.num <- 1500\n",
    "    suppressMessages({\n",
    "        GO.enrich <- results.genesort[1:degenes.num]%>%names%>%enrichr('GO_Biological_Process_2018')%>%.$GO_Biological_Process_2018\n",
    "    })\n",
    "    \n",
    "    return(list(gene.rank = results.genesort.fc,\n",
    "                GO.enrich = GO.enrich))\n",
    "}\n",
    "\n",
    "\n",
    "\n",
    "\n",
    "## Y: the perturbation group, cell-by-gene matrix\n",
    "## Z: the control group, cell-by-gene matrix\n",
    "## 3.(optional) using_rank: using rank (select PCs with top sdev &multimodality) or using value (set the threshold for sdev &mutlimodality) to select PCs, the default is TRUE\n",
    "## 4.(optinal) top.sdev: when using_rank=TRUE, to set the threshold of standard deviations of PCs, the default is 20\n",
    "## 5.(optinal) top.multimodal: when using_rank=TRUE, to set the threshold of dip statistics, the default is 3\n",
    "## 6.(optional) th.sdev: when using_rank=FALSE, to set the threshold of standard deviations of PCs, the default is 1\n",
    "## 7.(optional) th.multimodal: when using_rank=FALSE, to set the threshold of dip statistics, the default is 0.0125\n",
    "## 5. degenes.num: (optional) the number of degenes to calculated GO enrichment. (default is 1500)\n",
    "## 4. seed_:(optional) the random seed for EM algorithm. Default is 0.\n",
    "\n",
    "run_scDecouple <- function(Y,Z,\n",
    "                           using_rank=TRUE,top.sdev=30,top.multimodal=3,th.sdev=1,\n",
    "                           th.multimodal=0.0125,degenes.num=1500,seed_=0){\n",
    "    \n",
    "    res.step1 <- data_preprocessing(Y,Z)\n",
    "    res.step2 <- pc_selection(Z.pca.mat = res.step1$Z.pca.results$x,Z.pca.sdev = res.step1$Z.pca.results$sdev,using_rank = TRUE)\n",
    "    res.step3 <- scDecouple(Z.pca.mat = res.step1$Z.pca.results$x, Z.pca.rotation = res.step1$Z.pca.results$rotation,Y.norm.log.sub = res.step1$Y.norm.log.sub,select.pcs=res.step2)\n",
    "    res.step4 <- downstream_analysis(Z.pca.rotation =res.step1$Z.pca.results$rotation,beta.PC.scDecouple = res.step3$beta.PC.scDecouple,Z.norm.log.sub = res.step1$Z.norm.log.sub,Y.norm.log.sub =res.step1$Y.norm.log.sub,genes.variable=res.step1$genes.variable)\n",
    "\n",
    "    return(list(processed_data=res.step1,\n",
    "                selected_pcs=res.step2,\n",
    "                decouple_results=res.step3,\n",
    "                downstream_analysis=res.step4))\n",
    "}"
   ]
  },
  {
   "cell_type": "code",
   "execution_count": 10,
   "metadata": {},
   "outputs": [],
   "source": []
  },
  {
   "cell_type": "code",
   "execution_count": null,
   "metadata": {},
   "outputs": [],
   "source": []
  },
  {
   "cell_type": "code",
   "execution_count": null,
   "metadata": {},
   "outputs": [],
   "source": []
  },
  {
   "cell_type": "code",
   "execution_count": null,
   "metadata": {},
   "outputs": [],
   "source": []
  },
  {
   "cell_type": "code",
   "execution_count": null,
   "metadata": {},
   "outputs": [],
   "source": []
  },
  {
   "cell_type": "code",
   "execution_count": 2,
   "metadata": {},
   "outputs": [],
   "source": [
    "# run step by step"
   ]
  },
  {
   "cell_type": "code",
   "execution_count": 3,
   "metadata": {},
   "outputs": [],
   "source": [
    "# demo data\n",
    "load('data.image')"
   ]
  },
  {
   "cell_type": "code",
   "execution_count": 4,
   "metadata": {},
   "outputs": [
    {
     "data": {
      "text/html": [
       "<style>\n",
       ".list-inline {list-style: none; margin:0; padding: 0}\n",
       ".list-inline>li {display: inline-block}\n",
       ".list-inline>li:not(:last-child)::after {content: \"\\00b7\"; padding: 0 .5ex}\n",
       "</style>\n",
       "<ol class=list-inline><li>'data_preprocessing'</li><li>'downstream_analysis'</li><li>'get_beta_EM_sep_method'</li><li>'pc_selection'</li><li>'run_scDecouple'</li><li>'scDecouple'</li><li>'Y'</li><li>'Z'</li></ol>\n"
      ],
      "text/latex": [
       "\\begin{enumerate*}\n",
       "\\item 'data\\_preprocessing'\n",
       "\\item 'downstream\\_analysis'\n",
       "\\item 'get\\_beta\\_EM\\_sep\\_method'\n",
       "\\item 'pc\\_selection'\n",
       "\\item 'run\\_scDecouple'\n",
       "\\item 'scDecouple'\n",
       "\\item 'Y'\n",
       "\\item 'Z'\n",
       "\\end{enumerate*}\n"
      ],
      "text/markdown": [
       "1. 'data_preprocessing'\n",
       "2. 'downstream_analysis'\n",
       "3. 'get_beta_EM_sep_method'\n",
       "4. 'pc_selection'\n",
       "5. 'run_scDecouple'\n",
       "6. 'scDecouple'\n",
       "7. 'Y'\n",
       "8. 'Z'\n",
       "\n",
       "\n"
      ],
      "text/plain": [
       "[1] \"data_preprocessing\"     \"downstream_analysis\"    \"get_beta_EM_sep_method\"\n",
       "[4] \"pc_selection\"           \"run_scDecouple\"         \"scDecouple\"            \n",
       "[7] \"Y\"                      \"Z\"                     "
      ]
     },
     "metadata": {},
     "output_type": "display_data"
    }
   ],
   "source": [
    "# load the control group Z and the perturbation group Y\n",
    "# Z represents control group: Cells by Genes\n",
    "# Y represents perturbation group: Cells by Genes\n",
    "ls()"
   ]
  },
  {
   "cell_type": "markdown",
   "metadata": {},
   "source": [
    "# one-stop"
   ]
  },
  {
   "cell_type": "code",
   "execution_count": 5,
   "metadata": {},
   "outputs": [
    {
     "name": "stdout",
     "output_type": "stream",
     "text": [
      "number of iterations= 174 \n"
     ]
    },
    {
     "name": "stderr",
     "output_type": "stream",
     "text": [
      "Welcome to enrichR\n",
      "Checking connection ... \n",
      "\n",
      "Enrichr ... \n",
      "Connection is Live!\n",
      "\n",
      "FlyEnrichr ... \n",
      "Connection is available!\n",
      "\n",
      "WormEnrichr ... \n",
      "Connection is available!\n",
      "\n",
      "YeastEnrichr ... \n",
      "Connection is available!\n",
      "\n",
      "FishEnrichr ... \n",
      "Connection is available!\n",
      "\n"
     ]
    },
    {
     "name": "stdout",
     "output_type": "stream",
     "text": [
      "Uploading data to Enrichr... Done.\n",
      "  Querying GO_Biological_Process_2018... Done.\n",
      "Parsing results... Done.\n"
     ]
    }
   ],
   "source": [
    "res=run_scDecouple(Y,Z)"
   ]
  },
  {
   "cell_type": "markdown",
   "metadata": {},
   "source": [
    "# run step by step"
   ]
  },
  {
   "cell_type": "markdown",
   "metadata": {},
   "source": [
    "## step1: preprocessing, to get log-normlized data and highly variable genes"
   ]
  },
  {
   "cell_type": "code",
   "execution_count": 10,
   "metadata": {},
   "outputs": [],
   "source": [
    "res.step1 <- data_preprocessing(Y,Z)"
   ]
  },
  {
   "cell_type": "code",
   "execution_count": 12,
   "metadata": {},
   "outputs": [
    {
     "data": {
      "text/html": [
       "<style>\n",
       ".list-inline {list-style: none; margin:0; padding: 0}\n",
       ".list-inline>li {display: inline-block}\n",
       ".list-inline>li:not(:last-child)::after {content: \"\\00b7\"; padding: 0 .5ex}\n",
       "</style>\n",
       "<ol class=list-inline><li>'genes.variable'</li><li>'Y.norm.log.sub'</li><li>'Z.norm.log.sub'</li><li>'Z.pca.results'</li></ol>\n"
      ],
      "text/latex": [
       "\\begin{enumerate*}\n",
       "\\item 'genes.variable'\n",
       "\\item 'Y.norm.log.sub'\n",
       "\\item 'Z.norm.log.sub'\n",
       "\\item 'Z.pca.results'\n",
       "\\end{enumerate*}\n"
      ],
      "text/markdown": [
       "1. 'genes.variable'\n",
       "2. 'Y.norm.log.sub'\n",
       "3. 'Z.norm.log.sub'\n",
       "4. 'Z.pca.results'\n",
       "\n",
       "\n"
      ],
      "text/plain": [
       "[1] \"genes.variable\" \"Y.norm.log.sub\" \"Z.norm.log.sub\" \"Z.pca.results\" "
      ]
     },
     "metadata": {},
     "output_type": "display_data"
    }
   ],
   "source": [
    "res.step1%>%ls"
   ]
  },
  {
   "cell_type": "markdown",
   "metadata": {},
   "source": [
    "## step2: get PCs which may have high infection bias"
   ]
  },
  {
   "cell_type": "code",
   "execution_count": 13,
   "metadata": {},
   "outputs": [],
   "source": [
    "res.step2 <- pc_selection(Z.pca.mat = res.step1$Z.pca.results$x,Z.pca.sdev = res.step1$Z.pca.results$sdev,using_rank = TRUE)"
   ]
  },
  {
   "cell_type": "code",
   "execution_count": 15,
   "metadata": {},
   "outputs": [
    {
     "data": {
      "text/html": [
       "<style>\n",
       ".list-inline {list-style: none; margin:0; padding: 0}\n",
       ".list-inline>li {display: inline-block}\n",
       ".list-inline>li:not(:last-child)::after {content: \"\\00b7\"; padding: 0 .5ex}\n",
       "</style>\n",
       "<ol class=list-inline><li>'PC17'</li><li>'PC8'</li><li>'PC1'</li></ol>\n"
      ],
      "text/latex": [
       "\\begin{enumerate*}\n",
       "\\item 'PC17'\n",
       "\\item 'PC8'\n",
       "\\item 'PC1'\n",
       "\\end{enumerate*}\n"
      ],
      "text/markdown": [
       "1. 'PC17'\n",
       "2. 'PC8'\n",
       "3. 'PC1'\n",
       "\n",
       "\n"
      ],
      "text/plain": [
       "[1] \"PC17\" \"PC8\"  \"PC1\" "
      ]
     },
     "metadata": {},
     "output_type": "display_data"
    }
   ],
   "source": [
    "res.step2"
   ]
  },
  {
   "cell_type": "markdown",
   "metadata": {},
   "source": [
    "## step3: decouple cellular response and infection bias"
   ]
  },
  {
   "cell_type": "code",
   "execution_count": 23,
   "metadata": {},
   "outputs": [
    {
     "name": "stdout",
     "output_type": "stream",
     "text": [
      "number of iterations= 174 \n"
     ]
    }
   ],
   "source": [
    "res.step3 <- scDecouple(Z.pca.mat = res.step1$Z.pca.results$x, Z.pca.rotation = res.step1$Z.pca.results$rotation,Y.norm.log.sub = res.step1$Y.norm.log.sub,select.pcs=res.step2)"
   ]
  },
  {
   "cell_type": "code",
   "execution_count": 24,
   "metadata": {},
   "outputs": [
    {
     "data": {
      "text/html": [
       "<style>\n",
       ".list-inline {list-style: none; margin:0; padding: 0}\n",
       ".list-inline>li {display: inline-block}\n",
       ".list-inline>li:not(:last-child)::after {content: \"\\00b7\"; padding: 0 .5ex}\n",
       "</style>\n",
       "<ol class=list-inline><li>'beta.PC.scDecouple'</li><li>'ratio.changes'</li></ol>\n"
      ],
      "text/latex": [
       "\\begin{enumerate*}\n",
       "\\item 'beta.PC.scDecouple'\n",
       "\\item 'ratio.changes'\n",
       "\\end{enumerate*}\n"
      ],
      "text/markdown": [
       "1. 'beta.PC.scDecouple'\n",
       "2. 'ratio.changes'\n",
       "\n",
       "\n"
      ],
      "text/plain": [
       "[1] \"beta.PC.scDecouple\" \"ratio.changes\"     "
      ]
     },
     "metadata": {},
     "output_type": "display_data"
    }
   ],
   "source": [
    "res.step3%>%ls"
   ]
  },
  {
   "cell_type": "markdown",
   "metadata": {},
   "source": [
    "## step4: downstream analysis: gene ranking and pathway enrichment"
   ]
  },
  {
   "cell_type": "code",
   "execution_count": 29,
   "metadata": {},
   "outputs": [
    {
     "name": "stdout",
     "output_type": "stream",
     "text": [
      "Uploading data to Enrichr... Done.\n",
      "  Querying GO_Biological_Process_2018... Done.\n",
      "Parsing results... Done.\n"
     ]
    }
   ],
   "source": [
    "res.step4 <- downstream_analysis(Z.pca.rotation =res.step1$Z.pca.results$rotation,beta.PC.scDecouple = res.step3$beta.PC.scDecouple,Z.norm.log.sub = res.step1$Z.norm.log.sub,Y.norm.log.sub =res.step1$Y.norm.log.sub,genes.variable=res.step1$genes.variable)"
   ]
  },
  {
   "cell_type": "code",
   "execution_count": 30,
   "metadata": {},
   "outputs": [
    {
     "data": {
      "text/html": [
       "<style>\n",
       ".list-inline {list-style: none; margin:0; padding: 0}\n",
       ".list-inline>li {display: inline-block}\n",
       ".list-inline>li:not(:last-child)::after {content: \"\\00b7\"; padding: 0 .5ex}\n",
       "</style>\n",
       "<ol class=list-inline><li>'gene.rank'</li><li>'GO.enrich'</li></ol>\n"
      ],
      "text/latex": [
       "\\begin{enumerate*}\n",
       "\\item 'gene.rank'\n",
       "\\item 'GO.enrich'\n",
       "\\end{enumerate*}\n"
      ],
      "text/markdown": [
       "1. 'gene.rank'\n",
       "2. 'GO.enrich'\n",
       "\n",
       "\n"
      ],
      "text/plain": [
       "[1] \"gene.rank\" \"GO.enrich\""
      ]
     },
     "metadata": {},
     "output_type": "display_data"
    }
   ],
   "source": [
    "res.step4%>%ls"
   ]
  },
  {
   "cell_type": "code",
   "execution_count": null,
   "metadata": {},
   "outputs": [],
   "source": []
  }
 ],
 "metadata": {
  "kernelspec": {
   "display_name": "R",
   "language": "R",
   "name": "ir"
  },
  "language_info": {
   "codemirror_mode": "r",
   "file_extension": ".r",
   "mimetype": "text/x-r-source",
   "name": "R",
   "pygments_lexer": "r",
   "version": "4.1.1"
  }
 },
 "nbformat": 4,
 "nbformat_minor": 4
}
