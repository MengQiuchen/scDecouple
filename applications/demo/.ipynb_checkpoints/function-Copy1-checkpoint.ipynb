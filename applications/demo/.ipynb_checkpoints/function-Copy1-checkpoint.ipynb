{
 "cells": [
  {
   "cell_type": "code",
   "execution_count": 17,
   "metadata": {},
   "outputs": [
    {
     "name": "stderr",
     "output_type": "stream",
     "text": [
      "── \u001b[1mAttaching packages\u001b[22m ─────────────────────────────── tidyverse 1.3.1 ──\n",
      "\n",
      "\u001b[32m✔\u001b[39m \u001b[34mggplot2\u001b[39m 3.3.5     \u001b[32m✔\u001b[39m \u001b[34mpurrr  \u001b[39m 0.3.4\n",
      "\u001b[32m✔\u001b[39m \u001b[34mtibble \u001b[39m 3.1.6     \u001b[32m✔\u001b[39m \u001b[34mdplyr  \u001b[39m 1.0.7\n",
      "\u001b[32m✔\u001b[39m \u001b[34mtidyr  \u001b[39m 1.1.4     \u001b[32m✔\u001b[39m \u001b[34mstringr\u001b[39m 1.4.0\n",
      "\u001b[32m✔\u001b[39m \u001b[34mreadr  \u001b[39m 2.1.1     \u001b[32m✔\u001b[39m \u001b[34mforcats\u001b[39m 0.5.1\n",
      "\n",
      "── \u001b[1mConflicts\u001b[22m ────────────────────────────────── tidyverse_conflicts() ──\n",
      "\u001b[31m✖\u001b[39m \u001b[34mdplyr\u001b[39m::\u001b[32mfilter()\u001b[39m masks \u001b[34mstats\u001b[39m::filter()\n",
      "\u001b[31m✖\u001b[39m \u001b[34mdplyr\u001b[39m::\u001b[32mlag()\u001b[39m    masks \u001b[34mstats\u001b[39m::lag()\n",
      "\n"
     ]
    }
   ],
   "source": [
    "library(tidyverse)\n",
    "library(Seurat)"
   ]
  },
  {
   "cell_type": "code",
   "execution_count": 1,
   "metadata": {},
   "outputs": [],
   "source": [
    "# demo data\n",
    "load('data.image')"
   ]
  },
  {
   "cell_type": "code",
   "execution_count": 2,
   "metadata": {},
   "outputs": [
    {
     "data": {
      "text/html": [
       "<style>\n",
       ".list-inline {list-style: none; margin:0; padding: 0}\n",
       ".list-inline>li {display: inline-block}\n",
       ".list-inline>li:not(:last-child)::after {content: \"\\00b7\"; padding: 0 .5ex}\n",
       "</style>\n",
       "<ol class=list-inline><li>'Y'</li><li>'Z'</li></ol>\n"
      ],
      "text/latex": [
       "\\begin{enumerate*}\n",
       "\\item 'Y'\n",
       "\\item 'Z'\n",
       "\\end{enumerate*}\n"
      ],
      "text/markdown": [
       "1. 'Y'\n",
       "2. 'Z'\n",
       "\n",
       "\n"
      ],
      "text/plain": [
       "[1] \"Y\" \"Z\""
      ]
     },
     "metadata": {},
     "output_type": "display_data"
    }
   ],
   "source": [
    "# load the control group Z and the perturbation group Y\n",
    "# Z represents control group: Cells by Genes\n",
    "# Y represents perturbation group: Cells by Genes\n",
    "ls()"
   ]
  },
  {
   "cell_type": "markdown",
   "metadata": {},
   "source": [
    "# step1: data preprocessing"
   ]
  },
  {
   "cell_type": "code",
   "execution_count": 32,
   "metadata": {},
   "outputs": [],
   "source": [
    "# the input is\n",
    "## Y: the perturbation group, cell-by-gene matrix\n",
    "## Z: the control group, cell-by-gene matrix\n",
    "data_preprocessing <- function(Y,Z){\n",
    "    \n",
    "    # the code shows the steps of preprocessing\n",
    "    ## 1. normalization and transformation\n",
    "    ## 2. variable gene selection\n",
    "\n",
    "    ## the following code shows a demo of data preprocessing\n",
    "\n",
    "    # select variable genes\n",
    "    ## using Seurat to do preprocessing\n",
    "    suppressWarnings({\n",
    "\n",
    "        Z.seurat <- CreateSeuratObject(counts = t(Z), min.cells = 0, min.features = 0)\n",
    "        Z.seurat <- NormalizeData(Z.seurat)\n",
    "        Z.seurat <- FindVariableFeatures(Z.seurat, selection.method = \"vst\", nfeatures = 600) \n",
    "\n",
    "        genes.variable <- VariableFeatures(Z.seurat)\n",
    "    })\n",
    "\n",
    "    # ## one method to do normalization & transfromation\n",
    "    # Z.norm.log <- as.matrix(Z.seurat@assays$RNA@data)\n",
    "\n",
    "    # ## another method \n",
    "    #### normalization & transformation\n",
    "    ## normalization another method to do normalization\n",
    "    Z.norm <- (Z/rowSums(Z)*10000)\n",
    "    Y.norm <- (Y/rowSums(Y)*10000)\n",
    "    ## log transformation\n",
    "    Z.norm.log <- log(Z.norm+1)\n",
    "    Y.norm.log <- log(Y.norm+1)\n",
    "\n",
    "    ## subset data matrix with variable genes\n",
    "    Z.norm.log.sub <- Z.norm.log[,genes.variable]\n",
    "    Y.norm.log.sub <- Y.norm.log[,genes.variable]\n",
    "\n",
    "    ## PCA\n",
    "    Z.pca.results <- prcomp(Z.norm.log.sub, center=TRUE, scale. = FALSE)\n",
    "\n",
    "    return(list(Z.norm.log.sub=Z.norm.log.sub,\n",
    "                Y.norm.log.sub=Y.norm.log.sub,\n",
    "                genes.variable=genes.variable,\n",
    "                Z.pca.results=Z.pca.results))\n",
    "\n",
    "}\n"
   ]
  },
  {
   "cell_type": "markdown",
   "metadata": {},
   "source": [
    "# step2: PC select"
   ]
  },
  {
   "cell_type": "code",
   "execution_count": null,
   "metadata": {},
   "outputs": [],
   "source": [
    "th.sdev <- 1\n",
    "th.multimodal <- 0.0125"
   ]
  },
  {
   "cell_type": "code",
   "execution_count": null,
   "metadata": {},
   "outputs": [],
   "source": [
    "## the input is:\n",
    "## 1. Z.pca.mat: PC matrix of control group, cells-by-PCs\n",
    "##### for example, the \"Z.pca.results$x\" from \"data_preprocessing\" function\n",
    "## 2.(optional) Z.pca.sdev: the standard deviation of PCs, the default is NULL\n",
    "##### for example, the \"Z.pca.results$sdev\" from \"data_preprocessing\" function\n",
    "##### if is not provided, we will calculated from Z.pca.mat\n",
    "## 3.(optional) using_rank: using rank (select PCs with top sdev &multimodality) or using value (set the threshold for sdev &mutlimodality) to select PCs, the default is TRUE\n",
    "## 4.(optinal) top.sdev: when using_rank=TRUE, to set the threshold of standard deviations of PCs, the default is 20\n",
    "## 5.(optinal) top.multimodal: when using_rank=TRUE, to set the threshold of dip statistics, the default is 3\n",
    "## 6.(optional) th.sdev: when using_rank=FALSE, to set the threshold of standard deviations of PCs, the default is 1\n",
    "## 7.(optional) th.multimodal: when using_rank=FALSE, to set the threshold of dip statistics, the default is 0.0125"
   ]
  },
  {
   "cell_type": "code",
   "execution_count": 48,
   "metadata": {},
   "outputs": [],
   "source": [
    "## the code shows the steps of PC selection based on explained variance and multimodality\n",
    "\n",
    "pc_selection <- function(Z.pca.mat,\n",
    "                         Z.pca.sdev=NULL,using_rank=TRUE, \n",
    "                         top.sdev=20, top.multimodal=3, th.sdev=1, th.multimodal=0.0125){\n",
    "    \n",
    "    # if Z.pca.sdev is not provided, we calculated by Z.pca.mat\n",
    "    if(!length(Z.pca.sdev)){\n",
    "        Z.pca.sdev <- Z.pca.mat%>%apply(2,sd)%>%as.numeric\n",
    "    }\n",
    "    \n",
    "    if(using_rank){\n",
    "        # use rank to select PCs\n",
    "        library(diptest)\n",
    "        select.pcs <- ((Z.pca.mat)[,1:top.sdev]%>%apply(2,function(x){x%>%dip.test%>%.[['statistic']]})%>%\n",
    "                       sort(decreasing = TRUE))[1:top.multimodal]%>%names\n",
    "        \n",
    "    }else{\n",
    "        # use value to select PCs\n",
    "        # selecte PCs by sdev\n",
    "        pc.select.sdev <- which(Z.pca.sdev > th.sdev)\n",
    "        # selecte PCs by multimodality\n",
    "        library(diptest)\n",
    "        select.pcs <- which((Z.pca.mat)[,pc.select.sdev]%>%\n",
    "                            apply(2,function(x){x%>%dip.test%>%.[['statistic']]})> th.multimodal)%>%names\n",
    "    }\n",
    "    \n",
    "    return(select.pcs)\n",
    "\n",
    "\n",
    "}\n"
   ]
  },
  {
   "cell_type": "code",
   "execution_count": 9,
   "metadata": {},
   "outputs": [
    {
     "data": {
      "text/html": [
       "<style>\n",
       ".list-inline {list-style: none; margin:0; padding: 0}\n",
       ".list-inline>li {display: inline-block}\n",
       ".list-inline>li:not(:last-child)::after {content: \"\\00b7\"; padding: 0 .5ex}\n",
       "</style>\n",
       "<ol class=list-inline><li>'PC17'</li><li>'PC8'</li><li>'PC1'</li></ol>\n"
      ],
      "text/latex": [
       "\\begin{enumerate*}\n",
       "\\item 'PC17'\n",
       "\\item 'PC8'\n",
       "\\item 'PC1'\n",
       "\\end{enumerate*}\n"
      ],
      "text/markdown": [
       "1. 'PC17'\n",
       "2. 'PC8'\n",
       "3. 'PC1'\n",
       "\n",
       "\n"
      ],
      "text/plain": [
       "[1] \"PC17\" \"PC8\"  \"PC1\" "
      ]
     },
     "metadata": {},
     "output_type": "display_data"
    }
   ],
   "source": [
    "select.pcs"
   ]
  },
  {
   "cell_type": "markdown",
   "metadata": {},
   "source": [
    "# step3: deconvolution"
   ]
  },
  {
   "cell_type": "code",
   "execution_count": null,
   "metadata": {},
   "outputs": [],
   "source": [
    "# this part used scDecouple to deconvolute the cellular response from infection bias"
   ]
  },
  {
   "cell_type": "code",
   "execution_count": 59,
   "metadata": {},
   "outputs": [],
   "source": [
    "## input:\n",
    "## 1. Z.pca.mat: PC matrix of control group, cells-by-PCs\n",
    "##### for example, the \"Z.pca.results$x\" from \"data_preprocessing\" function\n",
    "## 2. Z.pca.rotation: the matrix of variable loadings (i.e., a matrix whose columns contain the eigenvectors), gene-by-PC. \n",
    "#### for example, the \"Z.pca.results$rotation\" from \"data_preprocessing\" function, or \"rotation\" element from \"prcomp\" function.\n",
    "## 3. seed_:(optional) the random seed for EM algorithm. Default is 0.\n",
    "\n",
    "## output:\n",
    "## 1. ratio.changes: the ratio changes of perturbation group compared with control group on chluster 1 to cluster n.\n",
    "## 2. beta.PC.scDecouple: the cellular response of each PC to the perturbation. the results were stored in list of double."
   ]
  },
  {
   "cell_type": "code",
   "execution_count": null,
   "metadata": {},
   "outputs": [],
   "source": [
    "scDecouple <- function(Z.pca.mat, Z.pca.rotation, seed_){\n",
    "    ## projection\n",
    "    Z.PCA <- Z.pca.mat\n",
    "\n",
    "    ## map Y to PC space\n",
    "    Y.PCA <- Y.norm.log.sub  %*% Z.pca.rotation\n",
    "\n",
    "    library(mixtools)\n",
    "\n",
    "    ## control group cluster proporties estimation\n",
    "    set.seed(seed_)\n",
    "    Z.EM <- mvnormalmixEM(Z.PCA[,select.pcs],k = 2)\n",
    "\n",
    "    z.labels <- Z.EM$posterior%>%apply(1,which.max)\n",
    "\n",
    "    # plots of control cells\n",
    "\n",
    "    # deconvolutio\n",
    "    beta.PC <- colMeans(Y.PCA) - colMeans(Z.PCA)\n",
    "\n",
    "    source('../function.r')\n",
    "\n",
    "    Y.EM <- get_beta_EM_sep_method(y = Y.PCA[,select.pcs],number.component = 2,\n",
    "                                   em = Z.EM$mu, es = Z.EM$sigma, el = Z.EM$lambda, \n",
    "                                   beta_init = beta.PC[select.pcs] )\n",
    "    beta.scDecouple <- Y.EM$beta\n",
    "\n",
    "    # show results\n",
    "    ## ratio.changes\n",
    "    ratio.changes <- Y.EM$el - Z.EM$lambda \n",
    "\n",
    "    ## cellular responses on PCs\n",
    "    beta.PC.scDecouple <- beta.PC\n",
    "    beta.PC.scDecouple[select.pcs] <- beta.scDecouple\n",
    "    \n",
    "    return(list(ratio.changes=ratio.changes,\n",
    "                beta.PC.scDecouple=beta.PC.scDecouple\n",
    "                ))\n",
    "}"
   ]
  },
  {
   "cell_type": "markdown",
   "metadata": {},
   "source": [
    "# step4: downstream analysis"
   ]
  },
  {
   "cell_type": "code",
   "execution_count": 25,
   "metadata": {},
   "outputs": [],
   "source": [
    "## cellular response of each genes\n",
    "## input:\n",
    "## 1. Z.pca.rotation: the matrix of variable loadings (i.e., a matrix whose columns contain the eigenvectors), gene-by-PC. \n",
    "#### for example, the \"Z.pca.results$rotation\" from \"data_preprocessing\" function, or \"rotation\" element from \"prcomp\" function.\n",
    "## 2. beta.PC.scDecouple: the cellular response of each PC\n",
    "#### for example, the \"beta.PC.scDecouple\" from \"scDecouple\" function\n",
    "## 3. Z.norm.log.sub: the log-normalized control group gene expression matrix, cell-by-gene.\n",
    "#### for example, the \"Z.norm.log.sub\" from \"data_preprocessing\" function\n",
    "## 4. Y.norm.log.sub: the log-normalized perturbation group gene expression matrix, cell-by-gene.\n",
    "#### for example, the \"Y.norm.log.sub\" from \"data_preprocessing\" function\n",
    "## 5. degenes.num: (optional) the number of degenes to calculated GO enrichment. (default is 1500)\n",
    "\n",
    "## output:\n",
    "## 1. gene.rank: the rank of genes sorted by their response to perturbation\n",
    "## 2. GO.enrich: the enrichment results provided by enrichr function in enrichR library.\n",
    "downstream_analysis <- function(Z.pca.rotation, beta.PC.scDecouple, Z.norm.log.sub, Y.norm.log.sub,\n",
    "                                degenes.num=1500){\n",
    "    \n",
    "    # calculate the response of each gene by back projection to gene space\n",
    "    beta.variable.scDecouple <- beta.PC.scDecouple %*% t(Z.pca.rotation) - colMeans(Z.norm.log.sub)\n",
    "    beta.gene.fc <- colMeans(Y.norm.log.sub) - colMeans(Z.norm.log.sub)\n",
    "\n",
    "    beta.gene.scDecouple <- beta.gene.fc\n",
    "    beta.gene.scDecouple[genes.variable] <- beta.variable.scDecouple[,genes.variable]\n",
    "    \n",
    "    ## gene ranking\n",
    "    results.genesort <- beta.gene.scDecouple[beta.gene.scDecouple%>%abs %>% sort(decreasing = TRUE)%>%names]\n",
    "\n",
    "    results.genesort.fc <- beta.gene.fc[beta.gene.fc%>%abs %>% sort(decreasing = TRUE)%>%names]\n",
    "    \n",
    "    ## ## gene enrichment\n",
    "    library('enrichR')\n",
    "    degenes.num <- 1500\n",
    "    GO.enrich <- results.genesort[1:degenes.num]%>%names%>%enrichr('GO_Biological_Process_2018')%>%.$GO_Biological_Process_2018\n",
    "\n",
    "    return(list(gene.rank = results.genesort.fc,\n",
    "                GO.enrich = GO.enrich))\n",
    "}\n"
   ]
  },
  {
   "cell_type": "code",
   "execution_count": 26,
   "metadata": {},
   "outputs": [],
   "source": []
  },
  {
   "cell_type": "code",
   "execution_count": 28,
   "metadata": {},
   "outputs": [],
   "source": []
  },
  {
   "cell_type": "code",
   "execution_count": null,
   "metadata": {},
   "outputs": [],
   "source": []
  },
  {
   "cell_type": "code",
   "execution_count": null,
   "metadata": {},
   "outputs": [],
   "source": []
  }
 ],
 "metadata": {
  "kernelspec": {
   "display_name": "R",
   "language": "R",
   "name": "ir"
  },
  "language_info": {
   "codemirror_mode": "r",
   "file_extension": ".r",
   "mimetype": "text/x-r-source",
   "name": "R",
   "pygments_lexer": "r",
   "version": "4.1.1"
  }
 },
 "nbformat": 4,
 "nbformat_minor": 4
}
