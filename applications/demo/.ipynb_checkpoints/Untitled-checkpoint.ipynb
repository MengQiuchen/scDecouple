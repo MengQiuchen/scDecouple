{
 "cells": [
  {
   "cell_type": "code",
   "execution_count": 1,
   "metadata": {},
   "outputs": [],
   "source": [
    "library(scDecouple)"
   ]
  },
  {
   "cell_type": "code",
   "execution_count": 2,
   "metadata": {},
   "outputs": [],
   "source": [
    "# demo data\n",
    "load('data.image')"
   ]
  },
  {
   "cell_type": "code",
   "execution_count": 3,
   "metadata": {},
   "outputs": [
    {
     "data": {
      "text/html": [
       "<style>\n",
       ".list-inline {list-style: none; margin:0; padding: 0}\n",
       ".list-inline>li {display: inline-block}\n",
       ".list-inline>li:not(:last-child)::after {content: \"\\00b7\"; padding: 0 .5ex}\n",
       "</style>\n",
       "<ol class=list-inline><li>'Y'</li><li>'Z'</li></ol>\n"
      ],
      "text/latex": [
       "\\begin{enumerate*}\n",
       "\\item 'Y'\n",
       "\\item 'Z'\n",
       "\\end{enumerate*}\n"
      ],
      "text/markdown": [
       "1. 'Y'\n",
       "2. 'Z'\n",
       "\n",
       "\n"
      ],
      "text/plain": [
       "[1] \"Y\" \"Z\""
      ]
     },
     "metadata": {},
     "output_type": "display_data"
    }
   ],
   "source": [
    "# load the control group Z and the perturbation group Y\n",
    "# Z represents control group: Cells by Genes\n",
    "# Y represents perturbation group: Cells by Genes\n",
    "ls()"
   ]
  },
  {
   "cell_type": "markdown",
   "metadata": {},
   "source": [
    "# one-stop"
   ]
  },
  {
   "cell_type": "code",
   "execution_count": null,
   "metadata": {},
   "outputs": [],
   "source": [
    "res=run_scDecouple(Y,Z)"
   ]
  },
  {
   "cell_type": "markdown",
   "metadata": {},
   "source": [
    "# run step by step"
   ]
  },
  {
   "cell_type": "markdown",
   "metadata": {},
   "source": [
    "## step1: preprocessing, to get log-normlized data and highly variable genes"
   ]
  },
  {
   "cell_type": "code",
   "execution_count": 5,
   "metadata": {},
   "outputs": [],
   "source": [
    "res.step1 <- data_preprocessing(Y,Z)"
   ]
  },
  {
   "cell_type": "code",
   "execution_count": 6,
   "metadata": {},
   "outputs": [
    {
     "data": {
      "text/html": [
       "<style>\n",
       ".list-inline {list-style: none; margin:0; padding: 0}\n",
       ".list-inline>li {display: inline-block}\n",
       ".list-inline>li:not(:last-child)::after {content: \"\\00b7\"; padding: 0 .5ex}\n",
       "</style>\n",
       "<ol class=list-inline><li>'genes.variable'</li><li>'Y.norm.log.sub'</li><li>'Z.norm.log.sub'</li><li>'Z.pca.results'</li></ol>\n"
      ],
      "text/latex": [
       "\\begin{enumerate*}\n",
       "\\item 'genes.variable'\n",
       "\\item 'Y.norm.log.sub'\n",
       "\\item 'Z.norm.log.sub'\n",
       "\\item 'Z.pca.results'\n",
       "\\end{enumerate*}\n"
      ],
      "text/markdown": [
       "1. 'genes.variable'\n",
       "2. 'Y.norm.log.sub'\n",
       "3. 'Z.norm.log.sub'\n",
       "4. 'Z.pca.results'\n",
       "\n",
       "\n"
      ],
      "text/plain": [
       "[1] \"genes.variable\" \"Y.norm.log.sub\" \"Z.norm.log.sub\" \"Z.pca.results\" "
      ]
     },
     "metadata": {},
     "output_type": "display_data"
    }
   ],
   "source": [
    "res.step1%>%ls"
   ]
  },
  {
   "cell_type": "markdown",
   "metadata": {},
   "source": [
    "## step2: get PCs which may have high infection bias"
   ]
  },
  {
   "cell_type": "code",
   "execution_count": 7,
   "metadata": {},
   "outputs": [],
   "source": [
    "res.step2 <- pc_selection(Z.pca.mat = res.step1$Z.pca.results$x,Z.pca.sdev = res.step1$Z.pca.results$sdev,using_rank = TRUE)"
   ]
  },
  {
   "cell_type": "code",
   "execution_count": 8,
   "metadata": {},
   "outputs": [
    {
     "data": {
      "text/html": [
       "<style>\n",
       ".list-inline {list-style: none; margin:0; padding: 0}\n",
       ".list-inline>li {display: inline-block}\n",
       ".list-inline>li:not(:last-child)::after {content: \"\\00b7\"; padding: 0 .5ex}\n",
       "</style>\n",
       "<ol class=list-inline><li>'PC17'</li><li>'PC8'</li><li>'PC1'</li></ol>\n"
      ],
      "text/latex": [
       "\\begin{enumerate*}\n",
       "\\item 'PC17'\n",
       "\\item 'PC8'\n",
       "\\item 'PC1'\n",
       "\\end{enumerate*}\n"
      ],
      "text/markdown": [
       "1. 'PC17'\n",
       "2. 'PC8'\n",
       "3. 'PC1'\n",
       "\n",
       "\n"
      ],
      "text/plain": [
       "[1] \"PC17\" \"PC8\"  \"PC1\" "
      ]
     },
     "metadata": {},
     "output_type": "display_data"
    }
   ],
   "source": [
    "res.step2"
   ]
  },
  {
   "cell_type": "markdown",
   "metadata": {},
   "source": [
    "## step3: decouple cellular response and infection bias"
   ]
  },
  {
   "cell_type": "code",
   "execution_count": 9,
   "metadata": {},
   "outputs": [
    {
     "name": "stdout",
     "output_type": "stream",
     "text": [
      "number of iterations= 174 \n"
     ]
    }
   ],
   "source": [
    "res.step3 <- scDecouple(Z.pca.mat = res.step1$Z.pca.results$x, Z.pca.rotation = res.step1$Z.pca.results$rotation,Y.norm.log.sub = res.step1$Y.norm.log.sub,select.pcs=res.step2)"
   ]
  },
  {
   "cell_type": "code",
   "execution_count": 10,
   "metadata": {},
   "outputs": [
    {
     "data": {
      "text/html": [
       "<style>\n",
       ".list-inline {list-style: none; margin:0; padding: 0}\n",
       ".list-inline>li {display: inline-block}\n",
       ".list-inline>li:not(:last-child)::after {content: \"\\00b7\"; padding: 0 .5ex}\n",
       "</style>\n",
       "<ol class=list-inline><li>'beta.PC.scDecouple'</li><li>'ratio.changes'</li></ol>\n"
      ],
      "text/latex": [
       "\\begin{enumerate*}\n",
       "\\item 'beta.PC.scDecouple'\n",
       "\\item 'ratio.changes'\n",
       "\\end{enumerate*}\n"
      ],
      "text/markdown": [
       "1. 'beta.PC.scDecouple'\n",
       "2. 'ratio.changes'\n",
       "\n",
       "\n"
      ],
      "text/plain": [
       "[1] \"beta.PC.scDecouple\" \"ratio.changes\"     "
      ]
     },
     "metadata": {},
     "output_type": "display_data"
    }
   ],
   "source": [
    "res.step3%>%ls"
   ]
  },
  {
   "cell_type": "markdown",
   "metadata": {},
   "source": [
    "## step4: downstream analysis: gene ranking and pathway enrichment"
   ]
  },
  {
   "cell_type": "code",
   "execution_count": 11,
   "metadata": {},
   "outputs": [
    {
     "name": "stdout",
     "output_type": "stream",
     "text": [
      "Uploading data to Enrichr... Done.\n",
      "  Querying GO_Biological_Process_2018... Done.\n",
      "Parsing results... Done.\n"
     ]
    }
   ],
   "source": [
    "res.step4 <- downstream_analysis(Z.pca.rotation =res.step1$Z.pca.results$rotation,beta.PC.scDecouple = res.step3$beta.PC.scDecouple,Z.norm.log.sub = res.step1$Z.norm.log.sub,Y.norm.log.sub =res.step1$Y.norm.log.sub,genes.variable=res.step1$genes.variable)"
   ]
  },
  {
   "cell_type": "code",
   "execution_count": 12,
   "metadata": {},
   "outputs": [
    {
     "data": {
      "text/html": [
       "<style>\n",
       ".list-inline {list-style: none; margin:0; padding: 0}\n",
       ".list-inline>li {display: inline-block}\n",
       ".list-inline>li:not(:last-child)::after {content: \"\\00b7\"; padding: 0 .5ex}\n",
       "</style>\n",
       "<ol class=list-inline><li>'gene.rank'</li><li>'GO.enrich'</li></ol>\n"
      ],
      "text/latex": [
       "\\begin{enumerate*}\n",
       "\\item 'gene.rank'\n",
       "\\item 'GO.enrich'\n",
       "\\end{enumerate*}\n"
      ],
      "text/markdown": [
       "1. 'gene.rank'\n",
       "2. 'GO.enrich'\n",
       "\n",
       "\n"
      ],
      "text/plain": [
       "[1] \"gene.rank\" \"GO.enrich\""
      ]
     },
     "metadata": {},
     "output_type": "display_data"
    }
   ],
   "source": [
    "res.step4%>%ls"
   ]
  },
  {
   "cell_type": "code",
   "execution_count": null,
   "metadata": {},
   "outputs": [],
   "source": []
  },
  {
   "cell_type": "code",
   "execution_count": null,
   "metadata": {},
   "outputs": [],
   "source": []
  }
 ],
 "metadata": {
  "kernelspec": {
   "display_name": "R",
   "language": "R",
   "name": "ir"
  },
  "language_info": {
   "codemirror_mode": "r",
   "file_extension": ".r",
   "mimetype": "text/x-r-source",
   "name": "R",
   "pygments_lexer": "r",
   "version": "4.1.1"
  }
 },
 "nbformat": 4,
 "nbformat_minor": 4
}
