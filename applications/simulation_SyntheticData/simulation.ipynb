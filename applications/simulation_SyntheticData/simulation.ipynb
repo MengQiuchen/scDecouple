{
 "cells": [
  {
   "cell_type": "markdown",
   "metadata": {},
   "source": [
    "# library &function"
   ]
  },
  {
   "cell_type": "code",
   "execution_count": 1,
   "metadata": {},
   "outputs": [],
   "source": [
    "source('../function.r')"
   ]
  },
  {
   "cell_type": "code",
   "execution_count": 2,
   "metadata": {},
   "outputs": [],
   "source": [
    "suppressPackageStartupMessages(\n",
    "    {library('data.table')\n",
    "    library('mvtnorm')\n",
    "    library('Matrix')\n",
    "    library('mixtools')\n",
    "    library('parallel')}\n",
    ")"
   ]
  },
  {
   "cell_type": "code",
   "execution_count": 3,
   "metadata": {},
   "outputs": [],
   "source": [
    "# function of data generation\n",
    "# ncells: the number of control cells\n",
    "# dis: the distance between two clusters in Control\n",
    "# beta: perturb effects\n",
    "# prob_diff: the cluster ratio difference between control and perturb\n",
    "# plot: If plot the Scatter plot of datasets\n",
    "\n",
    "func_generate_data_2D <- function(dis_=0, prob=0.5, ncells=1000, beta=c(1,1),prob_diff=0, plot=FALSE,seed_=NULL){\n",
    "    \n",
    "    # the center of two clusters is (0,0) (dis,0)\n",
    "    # the sd is [1,0;0,1] [0.5,0;0,0.5]\n",
    "    # the cluster ratio in Control is pro, 1- prob\n",
    "    # the cluster ratio in Perturb cells is pro+pro_diff, 1-(..)\n",
    "    # beta is [1,1] \n",
    "    if(length(seed_)){\n",
    "        set.seed(seed_)\n",
    "    }\n",
    "    xmus <- c(0,dis_)\n",
    "    xsds <- c(1,0.5)\n",
    "    ymus <- c(0,0)\n",
    "    ysds <- c(1,0.5)\n",
    "    beta=c(1,1)\n",
    "    prob1 <- c(prob, 1-prob) # the probability of origin Y0\n",
    "    prob2 <- c(prob+prob_diff, 1-(prob+prob_diff)) # the probability of control Z\n",
    "    \n",
    "\n",
    "    \n",
    "    # generate Perturbed Cells: Y follows GMM and Y_mu_i = Z_mu_i + beta\n",
    "    # use the probabilty of prob1\n",
    "    comp2 <- sample(1:2, prob=prob1, size=ncells, replace=TRUE) \n",
    "    #set.seed(1)\n",
    "    Y0 <- cbind(rnorm(n=ncells, mean=xmus[comp2], sd=xsds[comp2]),\n",
    "                  rnorm(n=ncells, mean=ymus[comp2], sd=ysds[comp2]))\n",
    "    \n",
    "    Beta = matrix(rep(beta, each=ncells), ncol=2) \n",
    "    Y <- Y0 + Beta \n",
    "    \n",
    "    # generate Control cells: Z follows GMM\n",
    "    # use the probability of prob2\n",
    "    comp1 <- sample(1:2, prob=prob2, size=ncells, replace=TRUE)\n",
    "    #set.seed(0)\n",
    "    Z <- cbind(rnorm(n=ncells, mean=xmus[comp1],sd=xsds[comp1]),\n",
    "                  rnorm(n=ncells, mean=ymus[comp1],sd=ysds[comp1]))\n",
    "    \n",
    "    \n",
    "    if(plot){\n",
    "        ref.cols <- c(\"blue\", \"red\")\n",
    "        clust1 <- ref.cols[comp1]\n",
    "        plot(Z, pch=16, cex=1.5, col=clust1,\n",
    "        main=paste0(\"Control Cells\"), xlab=\"PC1\", ylab=\"PC2\")\n",
    "\n",
    "        clust2 <- ref.cols[comp2]\n",
    "        plot(Y0, pch=16, cex=1.5, col=clust2,\n",
    "        main=\"Experimental Cells\", xlab = \"PC1\", ylab= \"PC2\")    \n",
    "    }\n",
    "    \n",
    "    # export generated Z Y0 Y\n",
    "    results <- list(\"Z\"=Z, \"Y0\"=Y0, \"Y\"=Y)\n",
    "    return(results)\n",
    "}"
   ]
  },
  {
   "cell_type": "code",
   "execution_count": 4,
   "metadata": {},
   "outputs": [],
   "source": [
    "get_error <- function(dis_=0, prob=0.5, ncells=2000, beta=c(1,1),prob_diff=0, seed_=NULL,\n",
    "                      direction=NULL,plot=FALSE){\n",
    "        \n",
    "    results <- func_generate_data_2D(dis=dis_, prob=prob, ncells=ncells, prob_diff=prob_diff, plot=plot,seed_=seed_)\n",
    "    Z <- results$Z\n",
    "    Y0 <- results$Y0\n",
    "    Y <- results$Y  \n",
    "    Z_EM_results <- mvnormalmixEM(Z,k = 2)\n",
    "\n",
    "    beta_mean <- col_means(Y) - col_means(Z)\n",
    "    Y_EM <- get_beta_EM_sep_method(y = Y,number.component = 2,\n",
    "                               em = Z_EM_results$mu, es = Z_EM_results$sigma, el = Z_EM_results$lambda, \n",
    "                               beta_init = beta_mean)\n",
    "    beta_EM <- Y_EM$beta\n",
    "    \n",
    "\n",
    "    error_EM <- sqrt(sum((beta_EM - beta)^2))\n",
    "    error_mean <- sqrt(sum(beta_mean - beta)^2)\n",
    "\n",
    "    error_EM_x <- abs(beta_EM-beta)[1]\n",
    "    error_mean_x <- abs(beta_mean-beta)[1]\n",
    "    error_EM_y <- abs(beta_EM-beta)[2]\n",
    "    error_mean_y <- abs(beta_mean-beta)[2]\n",
    "\n",
    "    #return(list(beta_EM,beta_mean,beta))\n",
    "    return(list(error_EM=error_EM,error_mean=error_mean,\n",
    "                error_EM_x=error_EM_x,error_mean_x=error_mean_x,\n",
    "               error_EM_y=error_EM_y,error_mean_y=error_mean_y,\n",
    "               data=results))\n",
    "    \n",
    "}"
   ]
  },
  {
   "cell_type": "markdown",
   "metadata": {},
   "source": [
    "# Generate Data"
   ]
  },
  {
   "cell_type": "markdown",
   "metadata": {},
   "source": [
    "## change the distance"
   ]
  },
  {
   "cell_type": "markdown",
   "metadata": {},
   "source": [
    "### 2-D error"
   ]
  },
  {
   "cell_type": "code",
   "execution_count": 5,
   "metadata": {},
   "outputs": [
    {
     "name": "stderr",
     "output_type": "stream",
     "text": [
      "Warning message in mclapply(1:100, function(x) {:\n",
      "“all scheduled cores encountered errors in user code”\n",
      "Warning message in mclapply(1:100, function(x) {:\n",
      "“all scheduled cores encountered errors in user code”\n",
      "Warning message in mclapply(1:100, function(x) {:\n",
      "“all scheduled cores encountered errors in user code”\n",
      "Warning message in mclapply(1:100, function(x) {:\n",
      "“all scheduled cores encountered errors in user code”\n"
     ]
    }
   ],
   "source": [
    "results_all <- c()\n",
    "seed_list.dis <- c()\n",
    "for(dis in seq(0,4,0.5)){\n",
    "    seeds <- sample(1:1e6,100)\n",
    "    results <- mclapply(1:100,function(x){get_error(dis,prob=0.5,prob_diff=0.1,seed_ = seeds[x])})\n",
    "    results_all[[as.character(dis)]] <- results\n",
    "    seed_list.dis[[as.character(dis)]] <- seeds                       \n",
    "}\n"
   ]
  },
  {
   "cell_type": "code",
   "execution_count": 8,
   "metadata": {},
   "outputs": [],
   "source": [
    "data.dis <- results_all%>%lapply(function(x){x%>%lapply(function(y){y[[7]]})})"
   ]
  },
  {
   "cell_type": "code",
   "execution_count": 9,
   "metadata": {},
   "outputs": [],
   "source": [
    "df <- c()\n",
    "for(i in 1:6){\n",
    "    df <- rbind(df,results_all%>%lapply(function(x){x%>%lapply(function(y){y[[i]]})%>%unlist%>%mean}),\n",
    "                    results_all%>%lapply(function(x){x%>%lapply(function(y){y[[i]]})%>%unlist%>%sd}))\n",
    "}"
   ]
  },
  {
   "cell_type": "code",
   "execution_count": 10,
   "metadata": {},
   "outputs": [],
   "source": [
    "#colnames(df) <- c(0:10)\n",
    "\n",
    "rownames(df) <- c('fc.mean','fc.sd','em.mean','em.sd',\n",
    "                 'fc_D1.mean','fc_D1.sd','em_D1.mean','em_D1.sd',\n",
    "                 'fc_D2.mean','fc_D2.sd','em_D2.mean','em_D2.sd')\n",
    "\n",
    "df <- apply(df,c(1,2),as.numeric)\n"
   ]
  },
  {
   "cell_type": "code",
   "execution_count": 11,
   "metadata": {},
   "outputs": [],
   "source": [
    "df_long <- c()\n",
    "\n",
    "for(i in c(1,3,5)){\n",
    "    df_long <- df_long%>%bind_rows(results_all%>%lapply(function(x){x%>%lapply(function(y){y[[i]]})%>%unlist})%>%\n",
    "            as.data.frame%>%mutate(method='em',dimension=round((i-1)/2))%>%pivot_longer(cols = 1:(ncol(.)-2)),\n",
    "              results_all%>%lapply(function(x){x%>%lapply(function(y){y[[i+1]]})%>%unlist})%>%\n",
    "            as.data.frame%>%mutate(method='fc',dimension=round((i-1)/2))%>%pivot_longer(cols = 1:(ncol(.)-2)))\n",
    "    \n",
    "}\n",
    "\n",
    "df_long$value <- as.numeric(df_long$value)\n",
    "\n",
    "df_long$name <- factor(df_long$name,levels=paste0('X',results_all%>%ls))\n",
    "\n",
    "df_long_dis <- df_long"
   ]
  },
  {
   "cell_type": "markdown",
   "metadata": {},
   "source": [
    "## change the ratio"
   ]
  },
  {
   "cell_type": "markdown",
   "metadata": {},
   "source": [
    "### the distance fix as 3\n",
    "### fix the ratio of Y0 as 0.5\n",
    "### change the ratio of Z: the difference from 0 to 0.45, step 0.05 "
   ]
  },
  {
   "cell_type": "code",
   "execution_count": null,
   "metadata": {},
   "outputs": [],
   "source": [
    "results_all <- c()\n",
    "seed_list.ratio <- c()\n",
    "for(pro_diff in seq(0,0.4,0.02)){\n",
    "    seeds <- sample(1:1e6,100)\n",
    "    results <- mclapply(1:100,function(x)(get_error(dis_=3,prob=0.5,prob_diff=pro_diff)))\n",
    "    results_all[[as.character(pro_diff)]] <- results\n",
    "    seed_list.ratio[[as.character(dis)]] <- seeds \n",
    "                        \n",
    "}\n"
   ]
  },
  {
   "cell_type": "code",
   "execution_count": null,
   "metadata": {},
   "outputs": [],
   "source": [
    "data.ratio <- results_all%>%lapply(function(x){x%>%lapply(function(y){y[[7]]})})"
   ]
  },
  {
   "cell_type": "code",
   "execution_count": null,
   "metadata": {},
   "outputs": [],
   "source": [
    "df <- c()\n",
    "for(i in 1:6){\n",
    "    df <- rbind(df,results_all%>%lapply(function(x){x%>%lapply(function(y){y[[i]]})%>%unlist%>%mean}),\n",
    "                    results_all%>%lapply(function(x){x%>%lapply(function(y){y[[i]]})%>%unlist%>%sd}))\n",
    "}"
   ]
  },
  {
   "cell_type": "code",
   "execution_count": null,
   "metadata": {},
   "outputs": [],
   "source": [
    "#colnames(df) <- c(0:10)\n",
    "\n",
    "rownames(df) <- c('fc.mean','fc.sd','em.mean','em.sd',\n",
    "                 'fc_D1.mean','fc_D1.sd','em_D1.mean','em_D1.sd',\n",
    "                 'fc_D2.mean','fc_D2.sd','em_D2.mean','em_D2.sd')\n",
    "\n",
    "df <- apply(df,c(1,2),as.numeric)\n"
   ]
  },
  {
   "cell_type": "code",
   "execution_count": 50,
   "metadata": {},
   "outputs": [],
   "source": [
    "df_long <- c()\n",
    "\n",
    "for(i in c(1,3,5)){\n",
    "    df_long <- df_long%>%bind_rows(results_all%>%lapply(function(x){x%>%lapply(function(y){y[[i]]})%>%unlist})%>%\n",
    "            as.data.frame%>%mutate(method='em',dimension=round((i-1)/2))%>%pivot_longer(cols = 1:(ncol(.)-2)),\n",
    "              results_all%>%lapply(function(x){x%>%lapply(function(y){y[[i+1]]})%>%unlist})%>%\n",
    "            as.data.frame%>%mutate(method='fc',dimension=round((i-1)/2))%>%pivot_longer(cols = 1:(ncol(.)-2)))\n",
    "    \n",
    "}\n",
    "\n",
    "df_long$value <- as.numeric(df_long$value)\n",
    "\n",
    "df_long$name <- factor(df_long$name,levels=paste0('X',seq(0,0.4,0.02)))\n",
    "\n",
    "df_long_ratio <- df_long"
   ]
  },
  {
   "cell_type": "markdown",
   "metadata": {},
   "source": [
    "# change cluster reponse, differ the reponse of each cluster"
   ]
  },
  {
   "cell_type": "code",
   "execution_count": 6,
   "metadata": {},
   "outputs": [],
   "source": [
    "func_generate_data_2D_diffBeta <- function(dis_=0, prob=0.5, ncells=1000, beta1=c(1,1),beta_diff=0, prob_diff=0, plot=FALSE,seed_=NULL){\n",
    "\n",
    "    if(length(seed_)){\n",
    "        set.seed(seed_)\n",
    "    }\n",
    "    xmus <- c(0,dis_)\n",
    "    xsds <- c(1,0.5)\n",
    "    ymus <- c(0,0)\n",
    "    ysds <- c(1,0.5)\n",
    "    beta=c(1,1)\n",
    "    prob1 <- c(prob, 1-prob) # the probability of control Z\n",
    "    prob2 <- c(prob+prob_diff, 1-(prob+prob_diff)) # the probability of origin Y0\n",
    "    \n",
    "\n",
    "    \n",
    "    # generate Perturbed Cells: Y follows GMM and Y_mu_i = Z_mu_i + beta\n",
    "    # use the probabilty of prob1\n",
    "    comp2 <- sample(1:2, prob=prob1, size=ncells, replace=TRUE) \n",
    "    #set.seed(1)\n",
    "    Y0 <- cbind(rnorm(n=ncells, mean=xmus[comp2], sd=xsds[comp2]),\n",
    "                  rnorm(n=ncells, mean=ymus[comp2], sd=ysds[comp2]))\n",
    "    \n",
    "    Beta = matrix(rep(beta, each=ncells), ncol=2) \n",
    "    Beta[which(comp2==2),1] <- beta[1]+beta_diff\n",
    "    \n",
    "    Y <- Y0 + Beta \n",
    "    \n",
    "    # generate Control cells: Z follows GMM\n",
    "    # use the probability of prob2\n",
    "    comp1 <- sample(1:2, prob=prob2, size=ncells, replace=TRUE)\n",
    "    Z <- cbind(rnorm(n=ncells, mean=xmus[comp1],sd=xsds[comp1]),\n",
    "                  rnorm(n=ncells, mean=ymus[comp1],sd=ysds[comp1]))\n",
    "    # export generated Z Y0 Y\n",
    "    results <- list(\"Z\"=Z, \"Y0\"=Y0, \"Y\"=Y,'Beta'=Beta,'comp'=comp2)\n",
    "    return(results)\n",
    "}"
   ]
  },
  {
   "cell_type": "code",
   "execution_count": 7,
   "metadata": {},
   "outputs": [],
   "source": [
    "# dis_=3;prob=0.5;ncells=2000;beta=c(1,1);prob_diff=0;beta_diff=0;seed_=NULL;direction=NULL;plot=FALSE\n",
    "get_error_diffBeta <- function(dis_=0, prob=0.5, ncells=2000, beta=c(1,1),\n",
    "                               prob_diff=0,beta_diff=0, seed_=NULL,\n",
    "                              direction=NULL,plot=FALSE,fix_es=FALSE){\n",
    "        \n",
    "    results <- func_generate_data_2D_diffBeta(dis=dis_, prob=prob, ncells=ncells, \n",
    "                                              prob_diff=prob_diff,beta_diff=beta_diff,\n",
    "                                              plot=plot,seed_=seed_)\n",
    "    Z <- results$Z\n",
    "    Y0 <- results$Y0\n",
    "    Y <- results$Y  \n",
    "    Z_EM_results <- mvnormalmixEM(Z,k = 2)\n",
    "\n",
    "    beta_mean <- col_means(Y) - col_means(Z)\n",
    "    Y_EM <- get_beta_EM_sep_method(y = Y,number.component = 2,fix_es=fix_es,\n",
    "                               em = Z_EM_results$mu, es = Z_EM_results$sigma, el = Z_EM_results$lambda, \n",
    "                               beta_init = beta_mean)\n",
    "    beta_EM <- Y_EM$beta\n",
    "    \n",
    "    # set the cluster ID, make it the same as component\n",
    "    if(Z_EM_results$mu[[2]][1] < Z_EM_results$mu[[1]][1]){\n",
    "        labels <- (results$comp)-1\n",
    "        labels[which(labels==0)] <- 2\n",
    "    }else{\n",
    "        labels <- (results$comp)\n",
    "    }\n",
    "    \n",
    "    error_EM <- sqrt(sum((beta_EM - beta)^2))\n",
    "    error_mean <- sqrt(sum(beta_mean - beta)^2)\n",
    "\n",
    "    error_EM_x <- abs(beta_EM-beta)[1]\n",
    "    error_mean_x <- abs(beta_mean-beta)[1]\n",
    "    error_EM_y <- abs(beta_EM-beta)[2]\n",
    "    error_mean_y <- abs(beta_mean-beta)[2]\n",
    "    accuracy <- sum(labels == Y_EM$ey%>%apply(1,function(x){which.max(x)}))/ncells\n",
    "\n",
    "\n",
    "    return(list(error_EM=error_EM,error_mean=error_mean,\n",
    "                error_EM_x=error_EM_x,error_mean_x=error_mean_x,\n",
    "               error_EM_y=error_EM_y,error_mean_y=error_mean_y,\n",
    "                accuracy=accuracy,\n",
    "               data=results))\n",
    "    \n",
    "}"
   ]
  },
  {
   "cell_type": "markdown",
   "metadata": {},
   "source": [
    "# simulations"
   ]
  },
  {
   "cell_type": "code",
   "execution_count": 8,
   "metadata": {},
   "outputs": [],
   "source": [
    "results_all <- c()\n",
    "seed_list.ratio <- c()\n",
    "for(beta_diff in seq(-8,4)){\n",
    "    seeds <- sample(1:1e6,100)\n",
    "    results <- mclapply(1:100,function(x)(get_error_diffBeta(dis_=3,prob=0.5,prob_diff=0.1,\n",
    "                                                             beta_diff=beta_diff)))\n",
    "    results_all[[as.character(beta_diff)]] <- results\n",
    "    seed_list.ratio[[as.character(beta_diff)]] <- seeds \n",
    "                        \n",
    "}\n"
   ]
  },
  {
   "cell_type": "code",
   "execution_count": 9,
   "metadata": {},
   "outputs": [],
   "source": [
    "accuracy <- results_all%>%lapply(function(x){x%>%lapply(function(y){y[[7]]})})\n",
    "\n",
    "data.beta <- results_all%>%lapply(function(x){x%>%lapply(function(y){y[[8]]})})"
   ]
  },
  {
   "cell_type": "code",
   "execution_count": 13,
   "metadata": {},
   "outputs": [],
   "source": [
    "df <- c()\n",
    "for(i in 1:6){\n",
    "    df <- rbind(df,results_all%>%lapply(function(x){x%>%lapply(function(y){y[[i]]})%>%unlist%>%mean}),\n",
    "                    results_all%>%lapply(function(x){x%>%lapply(function(y){y[[i]]})%>%unlist%>%sd}))\n",
    "}"
   ]
  },
  {
   "cell_type": "code",
   "execution_count": 14,
   "metadata": {},
   "outputs": [],
   "source": [
    "#colnames(df) <- c(0:10)\n",
    "\n",
    "rownames(df) <- c('fc.mean','fc.sd','em.mean','em.sd',\n",
    "                 'fc_D1.mean','fc_D1.sd','em_D1.mean','em_D1.sd',\n",
    "                 'fc_D2.mean','fc_D2.sd','em_D2.mean','em_D2.sd')\n",
    "\n",
    "df <- apply(df,c(1,2),as.numeric)\n"
   ]
  },
  {
   "cell_type": "code",
   "execution_count": 30,
   "metadata": {},
   "outputs": [],
   "source": [
    "df_long <- c()\n",
    "\n",
    "for(i in c(1,3,5)){\n",
    "    df_long <- df_long%>%bind_rows(results_all%>%lapply(function(x){x%>%lapply(function(y){y[[i]]})%>%unlist})%>%\n",
    "            as.data.frame%>%mutate(method='em',dimension=round((i-1)/2))%>%pivot_longer(cols = 1:(ncol(.)-2)),\n",
    "              results_all%>%lapply(function(x){x%>%lapply(function(y){y[[i+1]]})%>%unlist})%>%\n",
    "            as.data.frame%>%mutate(method='fc',dimension=round((i-1)/2))%>%pivot_longer(cols = 1:(ncol(.)-2)))\n",
    "    \n",
    "}\n",
    "\n",
    "df_long$value <- as.numeric(df_long$value)"
   ]
  },
  {
   "cell_type": "code",
   "execution_count": 31,
   "metadata": {},
   "outputs": [],
   "source": [
    "df_long$name <- factor(df_long$name %>% gsub('X\\\\.','X-',.),levels=paste0('X',c((-8):4)))\n",
    "\n",
    "df_long_ratio <- df_long"
   ]
  },
  {
   "cell_type": "markdown",
   "metadata": {},
   "source": [
    "# plot Results"
   ]
  },
  {
   "cell_type": "code",
   "execution_count": 4,
   "metadata": {},
   "outputs": [],
   "source": [
    "library('ggpubr')"
   ]
  },
  {
   "cell_type": "code",
   "execution_count": 5,
   "metadata": {},
   "outputs": [],
   "source": [
    "colors_ <- RColorBrewer::brewer.pal(name = \"Blues\", n = 5)\n",
    "plot_errorBox <- function(df,xlab_,ylab_='L2 Loss',ylim_=c(0,0.7),outlier_size=0.1,title_=''){\n",
    "    \n",
    "    names=df$name%>%unique%>%as.character%>%gsub('X','',.)\n",
    "    names[c(2,4,6,8)] <- ''\n",
    "    \n",
    "    p <- ggplot(df,aes(x=name,y=value,fill=method))+\n",
    "        geom_boxplot(width=0.4,outlier.size = outlier_size,lwd=0.2)+\n",
    "        #scale_x_continuous(breaks = c(1:5))+\n",
    "        scale_fill_manual(values=colors_[c(3,2)]) + \n",
    "        scale_x_discrete(breaks=df$name%>%unique%>%as.character,\n",
    "                         labels=names)+\n",
    "        xlab(xlab_) + ylab(ylab_)+ \n",
    "        ylim(ylim_)+\n",
    "        ggtitle(title_)+\n",
    "        theme_classic() +\n",
    "        theme(aspect.ratio = 1,\n",
    "              legend.position = c(0.3,0.9),\n",
    "              legend.key.size=unit(0.1,'cm'),\n",
    "              legend.title=element_text(size=8,color = 'black'),\n",
    "              legend.text=element_text(size=6,color = 'black'),\n",
    "            axis.text.x = element_text(size = 8,color = 'black'),\n",
    "            axis.title.x = element_text(size = 8, face = \"bold\"),\n",
    "            axis.text.y = element_text(size = 8,color = 'black'),\n",
    "            axis.title.y = element_text(size = 8, face = \"bold\"))\n",
    "    return(p)\n",
    "}"
   ]
  },
  {
   "cell_type": "code",
   "execution_count": 6,
   "metadata": {},
   "outputs": [
    {
     "name": "stderr",
     "output_type": "stream",
     "text": [
      "Warning message in gzfile(file, \"rb\"):\n",
      "“cannot open compressed file 'data/simulation.differentRatio.splitDim.v4.rds', probable reason 'No such file or directory'”\n"
     ]
    },
    {
     "ename": "ERROR",
     "evalue": "Error in gzfile(file, \"rb\"): cannot open the connection\n",
     "output_type": "error",
     "traceback": [
      "Error in gzfile(file, \"rb\"): cannot open the connection\nTraceback:\n",
      "1. readRDS(\"data/simulation.differentRatio.splitDim.v4.rds\")",
      "2. gzfile(file, \"rb\")"
     ]
    }
   ],
   "source": [
    "df_long <- readRDS('data/simulation.differentRatio.splitDim.v4.rds')\n",
    "df_long$method <- df_long$method%>%gsub('em','scDecouple',.)%>%gsub('fc','FC',.)\n",
    "\n",
    "df_long <- df_long%>%filter(name%in%c(paste0('X',seq(0,0.16,0.02)%>%as.character)))\n",
    "plot_ratio <- plot_errorBox(df_long%>%filter(!name%in%c('X0.45'))%>%filter(dimension==0),\n",
    "                            xlab_ = (paste('RatioChanges r')),title_='')\n",
    "plot_ratio1 <- plot_errorBox(df_long%>%filter(!name%in%c('X0.45'))%>%filter(dimension==1),\n",
    "                             xlab_ = (paste('RatioChanges r')),title_='')\n",
    "plot_ratio2 <- plot_errorBox(df_long%>%filter(!name%in%c('X0.45'))%>%filter(dimension==2),\n",
    "                             xlab_ = (paste('RatioChanges r')),title_='')"
   ]
  },
  {
   "cell_type": "code",
   "execution_count": null,
   "metadata": {},
   "outputs": [],
   "source": [
    "df_long <- readRDS('data/simulation.differentDis_splitDim.v3.rds')\n",
    "df_long$method <- df_long$method%>%gsub('em','scDecouple',.)%>%gsub('fc','FC',.)\n",
    "\n",
    "plot_dis <- plot_errorBox(df_long%>%filter(dimension==0),\n",
    "                          xlab_ = (paste('Cluster Distance d')),ylim_ = c(0,0.7),title_='')\n",
    "plot_dis1 <- plot_errorBox(df_long%>%filter(!name%in%c('X8','X9','X10'))%>%filter(dimension==1),\n",
    "                           xlab_ = (paste('Cluster Distance d')),ylim_ = c(0,0.7),title_='')\n",
    "plot_dis2 <- plot_errorBox(df_long%>%filter(!name%in%c('X8','X9','X10'))%>%filter(dimension==2),\n",
    "                           xlab_ = (paste('Cluster Distance d')),ylim_ = c(0,0.7),title_='')"
   ]
  },
  {
   "cell_type": "code",
   "execution_count": null,
   "metadata": {},
   "outputs": [],
   "source": [
    "df_long <- readRDS('data/simulation.differentBeta.splitDim.v4.rds')\n",
    "df_long$method <- df_long$method%>%gsub('em','scDecouple',.)%>%gsub('fc','FC',.)"
   ]
  },
  {
   "cell_type": "code",
   "execution_count": 77,
   "metadata": {},
   "outputs": [],
   "source": [
    "#df_long <- df_long%>%filter(name%in%c(paste0('X',seq(0,0.16,0.02)%>%as.character)))\n",
    "plot_beta <- plot_errorBox(df_long%>%filter(dimension==0),ylim_=c(0,3),\n",
    "                            xlab_ = 'BetaChanges',title_='Loss by RatioChanges')\n",
    "plot_beta1 <- plot_errorBox(df_long%>%filter(dimension==1),ylim_=c(0,3),\n",
    "                             xlab_ = 'BetaChanges',title_='Loss by RatioChanges on Dim1')\n",
    "plot_beta2 <- plot_errorBox(df_long%>%filter(dimension==2),\n",
    "                             xlab_ = 'BetaChanges',title_='Loss by RatioChanges on Dim2')"
   ]
  },
  {
   "cell_type": "markdown",
   "metadata": {},
   "source": [
    "# plot data"
   ]
  },
  {
   "cell_type": "code",
   "execution_count": 78,
   "metadata": {},
   "outputs": [],
   "source": [
    "# saveRDS(data.ratio,'simulation.differentRatio.data.v2.rds')\n",
    "# saveRDS(data.dis,'simulation.differentDis.data.v2.rds')"
   ]
  },
  {
   "cell_type": "code",
   "execution_count": 79,
   "metadata": {},
   "outputs": [],
   "source": [
    "# data=data.ratio;dim_=c(1);statistics_='p.value';xlab_='';ylab_='p.value';ylim_=c(0,1);title_=''\n",
    "plot_diptest <- function(data,dim_=c(1,2),statistics_='p.value',outlier_size=0.1,\n",
    "                         xlab_,ylab_='p.value',ylim_=c(0,1),title_=''){\n",
    "    library(diptest)\n",
    "    df.dip <- data%>%lapply(function(x){\n",
    "        x%>%lapply(function(x){\n",
    "            (x$Z)[,dim_]%>%dip.test%>%.[[statistics_]]\n",
    "        })%>%unlist\n",
    "    })\n",
    "    df.dip <- df.dip%>%as.data.frame%>%pivot_longer(1:ncol(.))\n",
    "    if(statistics_=='statistic'){\n",
    "        df.dip$value <- 100*df.dip$value\n",
    "    }\n",
    "    \n",
    "    names=df.dip$name%>%unique%>%as.character%>%gsub('X','',.)\n",
    "    names[c(2,4,6,8)] <- ''\n",
    "    \n",
    "    #df.dip$name <- as.numeric(gsub('X','',df.dip$name))\n",
    "    p <- ggplot(df.dip,aes(x=name,y=value))+\n",
    "        geom_boxplot(aes(group=name),width=0.2,outlier.size = outlier_size,lwd=0.2)+\n",
    "        #geom_smooth()+\n",
    "        #scale_fill_manual(values=colors_[c(3,2)]) + \n",
    "        scale_x_discrete(breaks=df.dip$name%>%unique%>%as.character,\n",
    "                         labels=names)+\n",
    "        xlab(xlab_) + ylab(ylab_)+ \n",
    "        ylim(ylim_)+\n",
    "        ggtitle(title_)+\n",
    "        theme_classic() +\n",
    "        theme(aspect.ratio = 1, \n",
    "            axis.text.x = element_text(size = 8,color = 'black'),\n",
    "            axis.title.x = element_text(size = 8,color = 'black', face = \"bold\"),\n",
    "            axis.text.y = element_text(size = 8,color = 'black'),\n",
    "            axis.title.y = element_text(size = 8,color = 'black', face = \"bold\"))\n",
    "    return(p)\n",
    "}"
   ]
  },
  {
   "cell_type": "code",
   "execution_count": 80,
   "metadata": {},
   "outputs": [],
   "source": [
    "dim_ = c(1,2)\n",
    "statistics_='statistic'\n",
    "df.dip <- data.dis%>%lapply(function(x){\n",
    "        x%>%lapply(function(x){\n",
    "            (x$Z)[,dim_]%>%dip.test%>%.[[statistics_]]\n",
    "        })%>%unlist\n",
    "    })\n",
    "    df.dip <- df.dip%>%as.data.frame%>%pivot_longer(1:ncol(.))"
   ]
  },
  {
   "cell_type": "code",
   "execution_count": 83,
   "metadata": {},
   "outputs": [],
   "source": [
    "diptest_D1_p <- plot_diptest(data.dis,dim_=c(1),statistics_='p.value', \n",
    "                             xlab_ = (paste('Cluster Distance d')),title_='')\n",
    "diptest_D1_dip <- plot_diptest(data.dis,\n",
    "                           dim_=c(1),statistics_='statistic', \n",
    "                               xlab_ = (paste('Cluster Distance d')),ylab_='Multimodality',ylim=c(0,10),title_='')\n",
    "diptest_D2_p <- plot_diptest(data.dis,\n",
    "                            dim_=c(2),statistics_='p.value',\n",
    "                             xlab_ = (paste('Cluster Distance d')),title_='')\n",
    "diptest_D2_dip <- plot_diptest(data.dis,\n",
    "                           dim_=c(2),statistics_='statistic',\n",
    "                               xlab_ = (paste('Cluster Distance d')),ylab_='Multimodality',ylim=c(0,10),title_='')"
   ]
  },
  {
   "cell_type": "code",
   "execution_count": 84,
   "metadata": {},
   "outputs": [
    {
     "data": {
      "image/png": "[encoded data removed]",
      "text/plain": [
       "plot without title"
      ]
     },
     "metadata": {
      "image/png": {
       "height": 240,
       "width": 240
      }
     },
     "output_type": "display_data"
    }
   ],
   "source": [
    "psize(4,4)\n",
    "ggarrange(plot_dis1, diptest_D1_dip,\n",
    "          plot_dis2, diptest_D2_dip,\n",
    "          #labels = c(\"A\", \"\",'','B','','',''),\n",
    "          ncol = 2, nrow=2,\n",
    "          align = \"hv\")#+theme(aspect.ratio = 0.4)\n",
    "ggsave('plots/simulation_splitDim_distance_v5.pdf',height = 4,width = 4)"
   ]
  },
  {
   "cell_type": "code",
   "execution_count": null,
   "metadata": {},
   "outputs": [],
   "source": []
  },
  {
   "cell_type": "code",
   "execution_count": 85,
   "metadata": {},
   "outputs": [],
   "source": [
    "data.ratio.sub <- data.ratio[1:9]"
   ]
  },
  {
   "cell_type": "code",
   "execution_count": 88,
   "metadata": {},
   "outputs": [],
   "source": [
    "diptest_D1_p <- plot_diptest(data.ratio.sub,dim_=c(1),statistics_='p.value', \n",
    "                             xlab_ = (paste('RatioChanges r')),title_='')\n",
    "diptest_D1_dip <- plot_diptest(data.ratio.sub,\n",
    "                           dim_=c(1),statistics_='statistic', \n",
    "                               xlab_ = (paste('RatioChanges r')),ylab_='Multimodality',ylim=c(0,6),title_='')\n",
    "diptest_D2_p <- plot_diptest(data.ratio.sub,\n",
    "                            dim_=c(2),statistics_='p.value',\n",
    "                             xlab_ = (paste('RatioChanges r')),title_='')\n",
    "diptest_D2_dip <- plot_diptest(data.ratio.sub,\n",
    "                           dim_=c(2),statistics_='statistic',\n",
    "                               xlab_ = (paste('RatioChanges r')),ylab_='Multimodality',ylim=c(0,6),title_='')"
   ]
  },
  {
   "cell_type": "code",
   "execution_count": 89,
   "metadata": {},
   "outputs": [
    {
     "data": {
      "image/png": "[encoded data removed]",
      "text/plain": [
       "plot without title"
      ]
     },
     "metadata": {
      "image/png": {
       "height": 240,
       "width": 360
      }
     },
     "output_type": "display_data"
    }
   ],
   "source": [
    "psize(6,4)\n",
    "ggarrange(plot_ratio1, diptest_D1_dip,\n",
    "          plot_ratio2, diptest_D2_dip,\n",
    "          #labels = c(\"A\", \"\",'','B','','',''),\n",
    "          ncol = 2, nrow=2,\n",
    "          align = \"hv\")#+theme(aspect.ratio = 0.4)\n",
    "ggsave('plots/simulation_splitDim_ratio_v5.pdf',height = 4,width = 4)"
   ]
  }
 ],
 "metadata": {
  "kernelspec": {
   "display_name": "R",
   "language": "R",
   "name": "ir"
  },
  "language_info": {
   "codemirror_mode": "r",
   "file_extension": ".r",
   "mimetype": "text/x-r-source",
   "name": "R",
   "pygments_lexer": "r",
   "version": "4.1.1"
  }
 },
 "nbformat": 4,
 "nbformat_minor": 4
}
