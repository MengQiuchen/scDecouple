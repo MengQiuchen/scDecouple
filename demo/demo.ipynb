{
 "cells": [
  {
   "cell_type": "code",
   "execution_count": 75,
   "metadata": {},
   "outputs": [],
   "source": [
    "load('../../geneticScreening/CROP/variables_fromPreprocessing.image')\n",
    "\n",
    "Z <- Z.stimulated\n",
    "\n",
    "colnames(Z) <- gsub('_','-',colnames(Z))\n",
    "\n",
    "design_matrix <- X_design.stimulated\n",
    "\n",
    "cells <- rownames(design_matrix)[which(design_matrix$NFKB1==1)]\n",
    "\n",
    "Y <- Y.stimulated[cells,]\n",
    "\n",
    "colnames(Y) <- gsub('_','-',colnames(Y))\n",
    "\n",
    "Y%>%dim\n",
    "\n",
    "save(Z,Y,file = 'data.image')"
   ]
  },
  {
   "cell_type": "code",
   "execution_count": 1,
   "metadata": {},
   "outputs": [],
   "source": [
    "load('data.image')"
   ]
  },
  {
   "cell_type": "code",
   "execution_count": 2,
   "metadata": {},
   "outputs": [],
   "source": [
    "# Z represents control group: Cells by Genes\n",
    "# Z represents perturbation group: Cells by Genes\n",
    "# design_matrix: Cells by sgRNAs"
   ]
  },
  {
   "cell_type": "code",
   "execution_count": 3,
   "metadata": {},
   "outputs": [
    {
     "name": "stderr",
     "output_type": "stream",
     "text": [
      "── \u001b[1mAttaching packages\u001b[22m ─────────────────────────────────────────────────────────────────────── tidyverse 1.3.1 ──\n",
      "\n",
      "\u001b[32m✔\u001b[39m \u001b[34mggplot2\u001b[39m 3.3.5     \u001b[32m✔\u001b[39m \u001b[34mpurrr  \u001b[39m 0.3.4\n",
      "\u001b[32m✔\u001b[39m \u001b[34mtibble \u001b[39m 3.1.6     \u001b[32m✔\u001b[39m \u001b[34mdplyr  \u001b[39m 1.0.7\n",
      "\u001b[32m✔\u001b[39m \u001b[34mtidyr  \u001b[39m 1.1.4     \u001b[32m✔\u001b[39m \u001b[34mstringr\u001b[39m 1.4.0\n",
      "\u001b[32m✔\u001b[39m \u001b[34mreadr  \u001b[39m 2.1.1     \u001b[32m✔\u001b[39m \u001b[34mforcats\u001b[39m 0.5.1\n",
      "\n",
      "── \u001b[1mConflicts\u001b[22m ────────────────────────────────────────────────────────────────────────── tidyverse_conflicts() ──\n",
      "\u001b[31m✖\u001b[39m \u001b[34mdplyr\u001b[39m::\u001b[32mfilter()\u001b[39m masks \u001b[34mstats\u001b[39m::filter()\n",
      "\u001b[31m✖\u001b[39m \u001b[34mdplyr\u001b[39m::\u001b[32mlag()\u001b[39m    masks \u001b[34mstats\u001b[39m::lag()\n",
      "\n"
     ]
    }
   ],
   "source": [
    "library(tidyverse)"
   ]
  },
  {
   "cell_type": "markdown",
   "metadata": {},
   "source": [
    "# step1: data preprocessing"
   ]
  },
  {
   "cell_type": "code",
   "execution_count": 4,
   "metadata": {},
   "outputs": [
    {
     "name": "stderr",
     "output_type": "stream",
     "text": [
      "Warning message:\n",
      "“package ‘Seurat’ was built under R version 4.1.2”\n",
      "Attaching SeuratObject\n",
      "\n"
     ]
    }
   ],
   "source": [
    "# select variable genes\n",
    "library(Seurat)\n",
    "## using Seurat to do preprocessing\n",
    "suppressWarnings({\n",
    "    \n",
    "    Z.seurat <- CreateSeuratObject(counts = t(Z), min.cells = 0, min.features = 0)\n",
    "    Z.seurat <- NormalizeData(Z.seurat)\n",
    "    Z.seurat <- FindVariableFeatures(Z.seurat, selection.method = \"vst\", nfeatures = 600) \n",
    "\n",
    "    genes.variable <- VariableFeatures(Z.seurat)\n",
    "})"
   ]
  },
  {
   "cell_type": "code",
   "execution_count": 5,
   "metadata": {},
   "outputs": [],
   "source": [
    "## norm\n",
    "Z.norm <- (Z/rowSums(Z)*10000)\n",
    "Y.norm <- (Y/rowSums(Y)*10000)\n",
    "\n",
    "## log\n",
    "Z.norm.log <- log(Z.norm+1)\n",
    "Y.norm.log <- log(Y.norm+1)"
   ]
  },
  {
   "cell_type": "code",
   "execution_count": 6,
   "metadata": {},
   "outputs": [],
   "source": [
    "## subset Z.norm.log with variable genes\n",
    "Z.norm.log.sub <- Z.norm.log[,genes.variable]\n",
    "Y.norm.log.sub <- Y.norm.log[,genes.variable]\n",
    "\n",
    "## PCA\n",
    "Z.pca.results <- prcomp(Z.norm.log.sub, center=TRUE, scale. = FALSE)\n"
   ]
  },
  {
   "cell_type": "markdown",
   "metadata": {},
   "source": [
    "# step2: PC select"
   ]
  },
  {
   "cell_type": "code",
   "execution_count": 7,
   "metadata": {},
   "outputs": [],
   "source": [
    "## select using threshold\n",
    "th.sdev <- 1\n",
    "th.multimodal <- 0.0125\n",
    "\n",
    "pc.select.sdev <- which(Z.pca.results$sdev > th.sdev)\n",
    "library(diptest)\n",
    "select.pcs <- which((Z.pca.results$x)[,pc.select.sdev]%>%\n",
    "                    apply(2,function(x){x%>%dip.test%>%.[['statistic']]})> th.multimodal)%>%names"
   ]
  },
  {
   "cell_type": "code",
   "execution_count": 8,
   "metadata": {},
   "outputs": [],
   "source": [
    "## select using ranks\n",
    "top.sdev <- 20\n",
    "top.multimodal <- 3\n",
    "#pc.select.sdev <- which(Z_pca_results$sdev > th.sdev)\n",
    "library(diptest)\n",
    "select.pcs <- ((Z.pca.results$x)[,1:top.sdev]%>%apply(2,function(x){x%>%dip.test%>%.[['statistic']]})%>%\n",
    "               sort(decreasing = TRUE))[1:top.multimodal]%>%names\n"
   ]
  },
  {
   "cell_type": "code",
   "execution_count": 9,
   "metadata": {},
   "outputs": [
    {
     "data": {
      "text/html": [
       "<style>\n",
       ".list-inline {list-style: none; margin:0; padding: 0}\n",
       ".list-inline>li {display: inline-block}\n",
       ".list-inline>li:not(:last-child)::after {content: \"\\00b7\"; padding: 0 .5ex}\n",
       "</style>\n",
       "<ol class=list-inline><li>'PC17'</li><li>'PC8'</li><li>'PC1'</li></ol>\n"
      ],
      "text/latex": [
       "\\begin{enumerate*}\n",
       "\\item 'PC17'\n",
       "\\item 'PC8'\n",
       "\\item 'PC1'\n",
       "\\end{enumerate*}\n"
      ],
      "text/markdown": [
       "1. 'PC17'\n",
       "2. 'PC8'\n",
       "3. 'PC1'\n",
       "\n",
       "\n"
      ],
      "text/plain": [
       "[1] \"PC17\" \"PC8\"  \"PC1\" "
      ]
     },
     "metadata": {},
     "output_type": "display_data"
    }
   ],
   "source": [
    "select.pcs"
   ]
  },
  {
   "cell_type": "markdown",
   "metadata": {},
   "source": [
    "# step3: deconvolution"
   ]
  },
  {
   "cell_type": "code",
   "execution_count": 10,
   "metadata": {},
   "outputs": [],
   "source": [
    "## projection\n",
    "Z.PCA <- Z.pca.results$x\n",
    "Z.projection.genebypc <- Z.pca.results$rotation\n",
    "\n",
    "## map Y to PC space\n",
    "Y.PCA <- Y.norm.log.sub  %*% Z.projection.genebypc"
   ]
  },
  {
   "cell_type": "code",
   "execution_count": 12,
   "metadata": {},
   "outputs": [
    {
     "name": "stderr",
     "output_type": "stream",
     "text": [
      "mixtools package, version 1.2.0, Released 2020-02-05\n",
      "This package is based upon work supported by the National Science Foundation under Grant No. SES-0518772.\n",
      "\n",
      "\n"
     ]
    }
   ],
   "source": [
    "library(mixtools)"
   ]
  },
  {
   "cell_type": "code",
   "execution_count": 13,
   "metadata": {},
   "outputs": [
    {
     "name": "stdout",
     "output_type": "stream",
     "text": [
      "number of iterations= 174 \n"
     ]
    }
   ],
   "source": [
    "## control group cluster proporties estimation\n",
    "set.seed(0)\n",
    "Z.EM <- mvnormalmixEM(Z.PCA[,select.pcs],k = 2)"
   ]
  },
  {
   "cell_type": "code",
   "execution_count": 14,
   "metadata": {},
   "outputs": [],
   "source": [
    "z.labels <- Z.EM$posterior%>%apply(1,which.max)"
   ]
  },
  {
   "cell_type": "code",
   "execution_count": 15,
   "metadata": {},
   "outputs": [],
   "source": [
    "# plots of control cells"
   ]
  },
  {
   "cell_type": "code",
   "execution_count": 17,
   "metadata": {},
   "outputs": [
    {
     "data": {
      "image/png": "[encoded data removed]",
      "text/plain": [
       "plot without title"
      ]
     },
     "metadata": {
      "image/png": {
       "height": 420,
       "width": 420
      }
     },
     "output_type": "display_data"
    }
   ],
   "source": [
    "plot(Z.pca.results$x[,c(1,17)],cex=0.1,col = c('red','blue','green','black')[z.labels])"
   ]
  },
  {
   "cell_type": "code",
   "execution_count": 18,
   "metadata": {},
   "outputs": [],
   "source": [
    "# deconvolution"
   ]
  },
  {
   "cell_type": "code",
   "execution_count": 19,
   "metadata": {},
   "outputs": [],
   "source": [
    "beta.PC <- colMeans(Y.PCA) - colMeans(Z.PCA)"
   ]
  },
  {
   "cell_type": "code",
   "execution_count": 20,
   "metadata": {},
   "outputs": [],
   "source": [
    "source('../function.r')"
   ]
  },
  {
   "cell_type": "code",
   "execution_count": 21,
   "metadata": {},
   "outputs": [
    {
     "name": "stdout",
     "output_type": "stream",
     "text": [
      "\n",
      "current ratio:  0.2289761 0.7710239\n",
      "original ratio:  0.3332632 0.6667368"
     ]
    }
   ],
   "source": [
    "Y.EM <- get_beta_EM_sep_method(y = Y.PCA[,select.pcs],number.component = 2,\n",
    "                               em = Z.EM$mu, es = Z.EM$sigma, el = Z.EM$lambda, \n",
    "                               beta_init = beta.PC[select.pcs] )\n",
    "beta.scDecouple <- Y.EM$beta\n",
    "\n",
    "cat(\"\\ncurrent ratio: \",Y.EM$el)\n",
    "cat(\"\\noriginal ratio: \", Z.EM$lambda)\n"
   ]
  },
  {
   "cell_type": "code",
   "execution_count": 22,
   "metadata": {},
   "outputs": [],
   "source": [
    "# show results\n",
    "## ratio.changes\n",
    "ratio.changes <- Y.EM$el - Z.EM$lambda "
   ]
  },
  {
   "cell_type": "code",
   "execution_count": 23,
   "metadata": {},
   "outputs": [
    {
     "data": {
      "text/html": [
       "<style>\n",
       ".list-inline {list-style: none; margin:0; padding: 0}\n",
       ".list-inline>li {display: inline-block}\n",
       ".list-inline>li:not(:last-child)::after {content: \"\\00b7\"; padding: 0 .5ex}\n",
       "</style>\n",
       "<ol class=list-inline><li>-0.104287087251089</li><li>0.104287087251089</li></ol>\n"
      ],
      "text/latex": [
       "\\begin{enumerate*}\n",
       "\\item -0.104287087251089\n",
       "\\item 0.104287087251089\n",
       "\\end{enumerate*}\n"
      ],
      "text/markdown": [
       "1. -0.104287087251089\n",
       "2. 0.104287087251089\n",
       "\n",
       "\n"
      ],
      "text/plain": [
       "[1] -0.1042871  0.1042871"
      ]
     },
     "metadata": {},
     "output_type": "display_data"
    }
   ],
   "source": [
    "ratio.changes"
   ]
  },
  {
   "cell_type": "code",
   "execution_count": 24,
   "metadata": {},
   "outputs": [],
   "source": [
    "## cellular responses on PCs\n",
    "beta.PC.scDecouple <- beta.PC\n",
    "beta.PC.scDecouple[select.pcs] <- beta.scDecouple"
   ]
  },
  {
   "cell_type": "markdown",
   "metadata": {},
   "source": [
    "# step3: downstream analysis"
   ]
  },
  {
   "cell_type": "code",
   "execution_count": 25,
   "metadata": {},
   "outputs": [],
   "source": [
    "## cellular response of each genes\n",
    "\n",
    "\n",
    "beta.variable.scDecouple <- beta.PC.scDecouple %*% t(Z.projection.genebypc) - colMeans(Z.norm.log.sub)\n",
    "\n",
    "beta.gene.fc <- colMeans(Y.norm.log.sub) - colMeans(Z.norm.log.sub)\n",
    "\n",
    "beta.gene.scDecouple <- beta.gene.fc\n",
    "beta.gene.scDecouple[genes.variable] <- beta.variable.scDecouple[,genes.variable]"
   ]
  },
  {
   "cell_type": "code",
   "execution_count": 26,
   "metadata": {},
   "outputs": [],
   "source": [
    "## gene ranking\n",
    "results.genesort <- beta.gene.scDecouple[beta.gene.scDecouple%>%abs %>% sort(decreasing = TRUE)%>%names]\n",
    "\n",
    "results.genesort.fc <- beta.gene.fc[beta.gene.fc%>%abs %>% sort(decreasing = TRUE)%>%names]"
   ]
  },
  {
   "cell_type": "code",
   "execution_count": 27,
   "metadata": {},
   "outputs": [],
   "source": [
    "## gene enrichment"
   ]
  },
  {
   "cell_type": "code",
   "execution_count": null,
   "metadata": {},
   "outputs": [
    {
     "name": "stderr",
     "output_type": "stream",
     "text": [
      "Welcome to enrichR\n",
      "Checking connection ... \n",
      "\n",
      "Enrichr ... \n",
      "Connection is Live!\n",
      "\n",
      "FlyEnrichr ... \n",
      "Connection is available!\n",
      "\n",
      "WormEnrichr ... \n",
      "Connection is available!\n",
      "\n",
      "YeastEnrichr ... \n",
      "Connection is available!\n",
      "\n",
      "FishEnrichr ... \n",
      "Connection is available!\n",
      "\n"
     ]
    }
   ],
   "source": [
    "library('enrichR')\n",
    "\n",
    "degenes.num <- 1500\n",
    "\n",
    "GO.enrich <- results.genesort[1:degenes.num]%>%names%>%enrichr('GO_Biological_Process_2018')%>%.$GO_Biological_Process_2018"
   ]
  },
  {
   "cell_type": "code",
   "execution_count": null,
   "metadata": {},
   "outputs": [],
   "source": [
    "GO.enrich%>%head"
   ]
  },
  {
   "cell_type": "code",
   "execution_count": null,
   "metadata": {},
   "outputs": [],
   "source": []
  },
  {
   "cell_type": "code",
   "execution_count": null,
   "metadata": {},
   "outputs": [],
   "source": []
  }
 ],
 "metadata": {
  "kernelspec": {
   "display_name": "R",
   "language": "R",
   "name": "ir"
  },
  "language_info": {
   "codemirror_mode": "r",
   "file_extension": ".r",
   "mimetype": "text/x-r-source",
   "name": "R",
   "pygments_lexer": "r",
   "version": "4.1.1"
  }
 },
 "nbformat": 4,
 "nbformat_minor": 4
}
